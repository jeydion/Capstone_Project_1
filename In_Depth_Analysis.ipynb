{
  "nbformat": 4,
  "nbformat_minor": 0,
  "metadata": {
    "colab": {
      "name": "In-Depth Analysis",
      "version": "0.3.2",
      "provenance": [],
      "collapsed_sections": [],
      "include_colab_link": true
    },
    "kernelspec": {
      "display_name": "Python 3",
      "language": "python",
      "name": "python3"
    }
  },
  "cells": [
    {
      "cell_type": "markdown",
      "metadata": {
        "id": "view-in-github",
        "colab_type": "text"
      },
      "source": [
        "<a href=\"https://colab.research.google.com/github/jeydion/Capstone_Project_1/blob/master/In_Depth_Analysis.ipynb\" target=\"_parent\"><img src=\"https://colab.research.google.com/assets/colab-badge.svg\" alt=\"Open In Colab\"/></a>"
      ]
    },
    {
      "cell_type": "code",
      "metadata": {
        "id": "G9h7aTB6QHn1",
        "colab_type": "code",
        "colab": {}
      },
      "source": [
        "import seaborn as sns\n",
        "import numpy as np\n",
        "import pandas as pd\n",
        "import matplotlib.pyplot as plt\n",
        "% matplotlib inline\n",
        "import hashlib\n",
        "import os"
      ],
      "execution_count": 0,
      "outputs": []
    },
    {
      "cell_type": "markdown",
      "metadata": {
        "id": "VoHqGBbAGBgl",
        "colab_type": "text"
      },
      "source": [
        "Load Data:\n",
        "\n",
        "Using books.csv, book_tags.csv, tags.csv files for this project. These three files contain all the information that the other two files contain plus much more. The data from all three of these csv files will be merged into a single dataframe organized by book titles."
      ]
    },
    {
      "cell_type": "code",
      "metadata": {
        "id": "a0mNevEiQHn8",
        "colab_type": "code",
        "outputId": "1c2d1596-1f1d-40a9-98c9-8bafef4c8b57",
        "colab": {
          "base_uri": "https://localhost:8080/",
          "height": 370
        }
      },
      "source": [
        "books_url = 'https://raw.githubusercontent.com/jeydion/goodbooks-10k/master/books.csv'\n",
        "books_df = pd.read_csv(books_url, index_col = 0)\n",
        "books_df.head(2)"
      ],
      "execution_count": 0,
      "outputs": [
        {
          "output_type": "execute_result",
          "data": {
            "text/html": [
              "<div>\n",
              "<style scoped>\n",
              "    .dataframe tbody tr th:only-of-type {\n",
              "        vertical-align: middle;\n",
              "    }\n",
              "\n",
              "    .dataframe tbody tr th {\n",
              "        vertical-align: top;\n",
              "    }\n",
              "\n",
              "    .dataframe thead th {\n",
              "        text-align: right;\n",
              "    }\n",
              "</style>\n",
              "<table border=\"1\" class=\"dataframe\">\n",
              "  <thead>\n",
              "    <tr style=\"text-align: right;\">\n",
              "      <th></th>\n",
              "      <th>goodreads_book_id</th>\n",
              "      <th>best_book_id</th>\n",
              "      <th>work_id</th>\n",
              "      <th>books_count</th>\n",
              "      <th>isbn</th>\n",
              "      <th>isbn13</th>\n",
              "      <th>authors</th>\n",
              "      <th>original_publication_year</th>\n",
              "      <th>original_title</th>\n",
              "      <th>title</th>\n",
              "      <th>...</th>\n",
              "      <th>ratings_count</th>\n",
              "      <th>work_ratings_count</th>\n",
              "      <th>work_text_reviews_count</th>\n",
              "      <th>ratings_1</th>\n",
              "      <th>ratings_2</th>\n",
              "      <th>ratings_3</th>\n",
              "      <th>ratings_4</th>\n",
              "      <th>ratings_5</th>\n",
              "      <th>image_url</th>\n",
              "      <th>small_image_url</th>\n",
              "    </tr>\n",
              "    <tr>\n",
              "      <th>book_id</th>\n",
              "      <th></th>\n",
              "      <th></th>\n",
              "      <th></th>\n",
              "      <th></th>\n",
              "      <th></th>\n",
              "      <th></th>\n",
              "      <th></th>\n",
              "      <th></th>\n",
              "      <th></th>\n",
              "      <th></th>\n",
              "      <th></th>\n",
              "      <th></th>\n",
              "      <th></th>\n",
              "      <th></th>\n",
              "      <th></th>\n",
              "      <th></th>\n",
              "      <th></th>\n",
              "      <th></th>\n",
              "      <th></th>\n",
              "      <th></th>\n",
              "      <th></th>\n",
              "    </tr>\n",
              "  </thead>\n",
              "  <tbody>\n",
              "    <tr>\n",
              "      <th>1</th>\n",
              "      <td>2767052</td>\n",
              "      <td>2767052</td>\n",
              "      <td>2792775</td>\n",
              "      <td>272</td>\n",
              "      <td>439023483</td>\n",
              "      <td>9.780439e+12</td>\n",
              "      <td>Suzanne Collins</td>\n",
              "      <td>2008.0</td>\n",
              "      <td>The Hunger Games</td>\n",
              "      <td>The Hunger Games (The Hunger Games, #1)</td>\n",
              "      <td>...</td>\n",
              "      <td>4780653</td>\n",
              "      <td>4942365</td>\n",
              "      <td>155254</td>\n",
              "      <td>66715</td>\n",
              "      <td>127936</td>\n",
              "      <td>560092</td>\n",
              "      <td>1481305</td>\n",
              "      <td>2706317</td>\n",
              "      <td>https://images.gr-assets.com/books/1447303603m...</td>\n",
              "      <td>https://images.gr-assets.com/books/1447303603s...</td>\n",
              "    </tr>\n",
              "    <tr>\n",
              "      <th>2</th>\n",
              "      <td>3</td>\n",
              "      <td>3</td>\n",
              "      <td>4640799</td>\n",
              "      <td>491</td>\n",
              "      <td>439554934</td>\n",
              "      <td>9.780440e+12</td>\n",
              "      <td>J.K. Rowling, Mary GrandPré</td>\n",
              "      <td>1997.0</td>\n",
              "      <td>Harry Potter and the Philosopher's Stone</td>\n",
              "      <td>Harry Potter and the Sorcerer's Stone (Harry P...</td>\n",
              "      <td>...</td>\n",
              "      <td>4602479</td>\n",
              "      <td>4800065</td>\n",
              "      <td>75867</td>\n",
              "      <td>75504</td>\n",
              "      <td>101676</td>\n",
              "      <td>455024</td>\n",
              "      <td>1156318</td>\n",
              "      <td>3011543</td>\n",
              "      <td>https://images.gr-assets.com/books/1474154022m...</td>\n",
              "      <td>https://images.gr-assets.com/books/1474154022s...</td>\n",
              "    </tr>\n",
              "  </tbody>\n",
              "</table>\n",
              "<p>2 rows × 22 columns</p>\n",
              "</div>"
            ],
            "text/plain": [
              "         goodreads_book_id  best_book_id  work_id  books_count       isbn  \\\n",
              "book_id                                                                     \n",
              "1                  2767052       2767052  2792775          272  439023483   \n",
              "2                        3             3  4640799          491  439554934   \n",
              "\n",
              "               isbn13                      authors  original_publication_year  \\\n",
              "book_id                                                                         \n",
              "1        9.780439e+12              Suzanne Collins                     2008.0   \n",
              "2        9.780440e+12  J.K. Rowling, Mary GrandPré                     1997.0   \n",
              "\n",
              "                                   original_title  \\\n",
              "book_id                                             \n",
              "1                                The Hunger Games   \n",
              "2        Harry Potter and the Philosopher's Stone   \n",
              "\n",
              "                                                     title  \\\n",
              "book_id                                                      \n",
              "1                  The Hunger Games (The Hunger Games, #1)   \n",
              "2        Harry Potter and the Sorcerer's Stone (Harry P...   \n",
              "\n",
              "                               ...                         ratings_count  \\\n",
              "book_id                        ...                                         \n",
              "1                              ...                               4780653   \n",
              "2                              ...                               4602479   \n",
              "\n",
              "         work_ratings_count  work_text_reviews_count  ratings_1  ratings_2  \\\n",
              "book_id                                                                      \n",
              "1                   4942365                   155254      66715     127936   \n",
              "2                   4800065                    75867      75504     101676   \n",
              "\n",
              "         ratings_3  ratings_4  ratings_5  \\\n",
              "book_id                                    \n",
              "1           560092    1481305    2706317   \n",
              "2           455024    1156318    3011543   \n",
              "\n",
              "                                                 image_url  \\\n",
              "book_id                                                      \n",
              "1        https://images.gr-assets.com/books/1447303603m...   \n",
              "2        https://images.gr-assets.com/books/1474154022m...   \n",
              "\n",
              "                                           small_image_url  \n",
              "book_id                                                     \n",
              "1        https://images.gr-assets.com/books/1447303603s...  \n",
              "2        https://images.gr-assets.com/books/1474154022s...  \n",
              "\n",
              "[2 rows x 22 columns]"
            ]
          },
          "metadata": {
            "tags": []
          },
          "execution_count": 2
        }
      ]
    },
    {
      "cell_type": "code",
      "metadata": {
        "id": "CLbGgf9dc-fQ",
        "colab_type": "code",
        "outputId": "d9a481e0-9dbd-487c-bbd7-9f1e771a277e",
        "colab": {
          "base_uri": "https://localhost:8080/",
          "height": 225
        }
      },
      "source": [
        "book_tags_url = 'https://raw.githubusercontent.com/jeydion/Capstone_Project_1/master/book_tags.csv'\n",
        "book_tags_df = pd.read_csv(book_tags_url, index_col = 0)\n",
        "book_tags_df['goodreads_book_id'] = book_tags_df.index\n",
        "book_tags_df = book_tags_df[['goodreads_book_id', 'tag_id', 'count']]\n",
        "book_tags_df.tail()"
      ],
      "execution_count": 0,
      "outputs": [
        {
          "output_type": "execute_result",
          "data": {
            "text/html": [
              "<div>\n",
              "<style scoped>\n",
              "    .dataframe tbody tr th:only-of-type {\n",
              "        vertical-align: middle;\n",
              "    }\n",
              "\n",
              "    .dataframe tbody tr th {\n",
              "        vertical-align: top;\n",
              "    }\n",
              "\n",
              "    .dataframe thead th {\n",
              "        text-align: right;\n",
              "    }\n",
              "</style>\n",
              "<table border=\"1\" class=\"dataframe\">\n",
              "  <thead>\n",
              "    <tr style=\"text-align: right;\">\n",
              "      <th></th>\n",
              "      <th>goodreads_book_id</th>\n",
              "      <th>tag_id</th>\n",
              "      <th>count</th>\n",
              "    </tr>\n",
              "    <tr>\n",
              "      <th>goodreads_book_id</th>\n",
              "      <th></th>\n",
              "      <th></th>\n",
              "      <th></th>\n",
              "    </tr>\n",
              "  </thead>\n",
              "  <tbody>\n",
              "    <tr>\n",
              "      <th>33288638</th>\n",
              "      <td>33288638</td>\n",
              "      <td>21303</td>\n",
              "      <td>7</td>\n",
              "    </tr>\n",
              "    <tr>\n",
              "      <th>33288638</th>\n",
              "      <td>33288638</td>\n",
              "      <td>17271</td>\n",
              "      <td>7</td>\n",
              "    </tr>\n",
              "    <tr>\n",
              "      <th>33288638</th>\n",
              "      <td>33288638</td>\n",
              "      <td>1126</td>\n",
              "      <td>7</td>\n",
              "    </tr>\n",
              "    <tr>\n",
              "      <th>33288638</th>\n",
              "      <td>33288638</td>\n",
              "      <td>11478</td>\n",
              "      <td>7</td>\n",
              "    </tr>\n",
              "    <tr>\n",
              "      <th>33288638</th>\n",
              "      <td>33288638</td>\n",
              "      <td>27939</td>\n",
              "      <td>7</td>\n",
              "    </tr>\n",
              "  </tbody>\n",
              "</table>\n",
              "</div>"
            ],
            "text/plain": [
              "                   goodreads_book_id  tag_id  count\n",
              "goodreads_book_id                                  \n",
              "33288638                    33288638   21303      7\n",
              "33288638                    33288638   17271      7\n",
              "33288638                    33288638    1126      7\n",
              "33288638                    33288638   11478      7\n",
              "33288638                    33288638   27939      7"
            ]
          },
          "metadata": {
            "tags": []
          },
          "execution_count": 3
        }
      ]
    },
    {
      "cell_type": "code",
      "metadata": {
        "id": "CSepb27fc_Az",
        "colab_type": "code",
        "outputId": "a32a33ba-be84-4c3d-b0b5-4b8d1645435c",
        "colab": {
          "base_uri": "https://localhost:8080/",
          "height": 225
        }
      },
      "source": [
        "tags_url = 'https://raw.githubusercontent.com/jeydion/Capstone_Project_1/master/tags.csv'\n",
        "tags_df = pd.read_csv(tags_url, index_col = 0)\n",
        "tags_df['tag_id'] = tags_df.index\n",
        "tags_df = tags_df[['tag_id', 'tag_name']]\n",
        "tags_df.tail()"
      ],
      "execution_count": 0,
      "outputs": [
        {
          "output_type": "execute_result",
          "data": {
            "text/html": [
              "<div>\n",
              "<style scoped>\n",
              "    .dataframe tbody tr th:only-of-type {\n",
              "        vertical-align: middle;\n",
              "    }\n",
              "\n",
              "    .dataframe tbody tr th {\n",
              "        vertical-align: top;\n",
              "    }\n",
              "\n",
              "    .dataframe thead th {\n",
              "        text-align: right;\n",
              "    }\n",
              "</style>\n",
              "<table border=\"1\" class=\"dataframe\">\n",
              "  <thead>\n",
              "    <tr style=\"text-align: right;\">\n",
              "      <th></th>\n",
              "      <th>tag_id</th>\n",
              "      <th>tag_name</th>\n",
              "    </tr>\n",
              "    <tr>\n",
              "      <th>tag_id</th>\n",
              "      <th></th>\n",
              "      <th></th>\n",
              "    </tr>\n",
              "  </thead>\n",
              "  <tbody>\n",
              "    <tr>\n",
              "      <th>34247</th>\n",
              "      <td>34247</td>\n",
              "      <td>Ｃhildrens</td>\n",
              "    </tr>\n",
              "    <tr>\n",
              "      <th>34248</th>\n",
              "      <td>34248</td>\n",
              "      <td>Ｆａｖｏｒｉｔｅｓ</td>\n",
              "    </tr>\n",
              "    <tr>\n",
              "      <th>34249</th>\n",
              "      <td>34249</td>\n",
              "      <td>Ｍａｎｇａ</td>\n",
              "    </tr>\n",
              "    <tr>\n",
              "      <th>34250</th>\n",
              "      <td>34250</td>\n",
              "      <td>ＳＥＲＩＥＳ</td>\n",
              "    </tr>\n",
              "    <tr>\n",
              "      <th>34251</th>\n",
              "      <td>34251</td>\n",
              "      <td>ｆａｖｏｕｒｉｔｅｓ</td>\n",
              "    </tr>\n",
              "  </tbody>\n",
              "</table>\n",
              "</div>"
            ],
            "text/plain": [
              "        tag_id    tag_name\n",
              "tag_id                    \n",
              "34247    34247   Ｃhildrens\n",
              "34248    34248   Ｆａｖｏｒｉｔｅｓ\n",
              "34249    34249       Ｍａｎｇａ\n",
              "34250    34250      ＳＥＲＩＥＳ\n",
              "34251    34251  ｆａｖｏｕｒｉｔｅｓ"
            ]
          },
          "metadata": {
            "tags": []
          },
          "execution_count": 4
        }
      ]
    },
    {
      "cell_type": "code",
      "metadata": {
        "id": "W-Y-hV6xezgZ",
        "colab_type": "code",
        "outputId": "e34e3fd4-3456-4631-f95c-c2f1fa310f87",
        "colab": {
          "base_uri": "https://localhost:8080/",
          "height": 34
        }
      },
      "source": [
        "tags_join_df = book_tags_df.merge(tags_df, on = 'tag_id', how='inner')\n",
        "tags_join_df.columns"
      ],
      "execution_count": 0,
      "outputs": [
        {
          "output_type": "execute_result",
          "data": {
            "text/plain": [
              "Index(['goodreads_book_id', 'tag_id', 'count', 'tag_name'], dtype='object')"
            ]
          },
          "metadata": {
            "tags": []
          },
          "execution_count": 5
        }
      ]
    },
    {
      "cell_type": "code",
      "metadata": {
        "id": "ZsCG1mMlN5zZ",
        "colab_type": "code",
        "outputId": "1f868a5e-e2b1-43b4-823e-a2c39f0e8f30",
        "colab": {
          "base_uri": "https://localhost:8080/",
          "height": 357
        }
      },
      "source": [
        "books_with_tags_df = pd.merge(books_df, tags_join_df, left_on= 'best_book_id', right_on='goodreads_book_id', how='inner')\n",
        "books_with_tags_df.head(2)"
      ],
      "execution_count": 0,
      "outputs": [
        {
          "output_type": "execute_result",
          "data": {
            "text/html": [
              "<div>\n",
              "<style scoped>\n",
              "    .dataframe tbody tr th:only-of-type {\n",
              "        vertical-align: middle;\n",
              "    }\n",
              "\n",
              "    .dataframe tbody tr th {\n",
              "        vertical-align: top;\n",
              "    }\n",
              "\n",
              "    .dataframe thead th {\n",
              "        text-align: right;\n",
              "    }\n",
              "</style>\n",
              "<table border=\"1\" class=\"dataframe\">\n",
              "  <thead>\n",
              "    <tr style=\"text-align: right;\">\n",
              "      <th></th>\n",
              "      <th>goodreads_book_id_x</th>\n",
              "      <th>best_book_id</th>\n",
              "      <th>work_id</th>\n",
              "      <th>books_count</th>\n",
              "      <th>isbn</th>\n",
              "      <th>isbn13</th>\n",
              "      <th>authors</th>\n",
              "      <th>original_publication_year</th>\n",
              "      <th>original_title</th>\n",
              "      <th>title</th>\n",
              "      <th>...</th>\n",
              "      <th>ratings_2</th>\n",
              "      <th>ratings_3</th>\n",
              "      <th>ratings_4</th>\n",
              "      <th>ratings_5</th>\n",
              "      <th>image_url</th>\n",
              "      <th>small_image_url</th>\n",
              "      <th>goodreads_book_id_y</th>\n",
              "      <th>tag_id</th>\n",
              "      <th>count</th>\n",
              "      <th>tag_name</th>\n",
              "    </tr>\n",
              "  </thead>\n",
              "  <tbody>\n",
              "    <tr>\n",
              "      <th>0</th>\n",
              "      <td>2767052</td>\n",
              "      <td>2767052</td>\n",
              "      <td>2792775</td>\n",
              "      <td>272</td>\n",
              "      <td>439023483</td>\n",
              "      <td>9.780439e+12</td>\n",
              "      <td>Suzanne Collins</td>\n",
              "      <td>2008.0</td>\n",
              "      <td>The Hunger Games</td>\n",
              "      <td>The Hunger Games (The Hunger Games, #1)</td>\n",
              "      <td>...</td>\n",
              "      <td>127936</td>\n",
              "      <td>560092</td>\n",
              "      <td>1481305</td>\n",
              "      <td>2706317</td>\n",
              "      <td>https://images.gr-assets.com/books/1447303603m...</td>\n",
              "      <td>https://images.gr-assets.com/books/1447303603s...</td>\n",
              "      <td>2767052</td>\n",
              "      <td>30574</td>\n",
              "      <td>11314</td>\n",
              "      <td>to-read</td>\n",
              "    </tr>\n",
              "    <tr>\n",
              "      <th>1</th>\n",
              "      <td>2767052</td>\n",
              "      <td>2767052</td>\n",
              "      <td>2792775</td>\n",
              "      <td>272</td>\n",
              "      <td>439023483</td>\n",
              "      <td>9.780439e+12</td>\n",
              "      <td>Suzanne Collins</td>\n",
              "      <td>2008.0</td>\n",
              "      <td>The Hunger Games</td>\n",
              "      <td>The Hunger Games (The Hunger Games, #1)</td>\n",
              "      <td>...</td>\n",
              "      <td>127936</td>\n",
              "      <td>560092</td>\n",
              "      <td>1481305</td>\n",
              "      <td>2706317</td>\n",
              "      <td>https://images.gr-assets.com/books/1447303603m...</td>\n",
              "      <td>https://images.gr-assets.com/books/1447303603s...</td>\n",
              "      <td>2767052</td>\n",
              "      <td>11305</td>\n",
              "      <td>10836</td>\n",
              "      <td>fantasy</td>\n",
              "    </tr>\n",
              "  </tbody>\n",
              "</table>\n",
              "<p>2 rows × 26 columns</p>\n",
              "</div>"
            ],
            "text/plain": [
              "   goodreads_book_id_x  best_book_id  work_id  books_count       isbn  \\\n",
              "0              2767052       2767052  2792775          272  439023483   \n",
              "1              2767052       2767052  2792775          272  439023483   \n",
              "\n",
              "         isbn13          authors  original_publication_year    original_title  \\\n",
              "0  9.780439e+12  Suzanne Collins                     2008.0  The Hunger Games   \n",
              "1  9.780439e+12  Suzanne Collins                     2008.0  The Hunger Games   \n",
              "\n",
              "                                     title    ...    ratings_2  ratings_3  \\\n",
              "0  The Hunger Games (The Hunger Games, #1)    ...       127936     560092   \n",
              "1  The Hunger Games (The Hunger Games, #1)    ...       127936     560092   \n",
              "\n",
              "   ratings_4  ratings_5                                          image_url  \\\n",
              "0    1481305    2706317  https://images.gr-assets.com/books/1447303603m...   \n",
              "1    1481305    2706317  https://images.gr-assets.com/books/1447303603m...   \n",
              "\n",
              "                                     small_image_url  goodreads_book_id_y  \\\n",
              "0  https://images.gr-assets.com/books/1447303603s...              2767052   \n",
              "1  https://images.gr-assets.com/books/1447303603s...              2767052   \n",
              "\n",
              "   tag_id  count  tag_name  \n",
              "0   30574  11314   to-read  \n",
              "1   11305  10836   fantasy  \n",
              "\n",
              "[2 rows x 26 columns]"
            ]
          },
          "metadata": {
            "tags": []
          },
          "execution_count": 6
        }
      ]
    },
    {
      "cell_type": "code",
      "metadata": {
        "id": "OKcJPYdcDcHF",
        "colab_type": "code",
        "outputId": "8e1a9f95-ac64-4aa4-ff02-59bbf47a7b5e",
        "colab": {
          "base_uri": "https://localhost:8080/",
          "height": 195
        }
      },
      "source": [
        "temp_df = books_with_tags_df.groupby('best_book_id')['tag_name'].apply(' '.join).reset_index()\n",
        "temp_df.head()"
      ],
      "execution_count": 0,
      "outputs": [
        {
          "output_type": "execute_result",
          "data": {
            "text/html": [
              "<div>\n",
              "<style scoped>\n",
              "    .dataframe tbody tr th:only-of-type {\n",
              "        vertical-align: middle;\n",
              "    }\n",
              "\n",
              "    .dataframe tbody tr th {\n",
              "        vertical-align: top;\n",
              "    }\n",
              "\n",
              "    .dataframe thead th {\n",
              "        text-align: right;\n",
              "    }\n",
              "</style>\n",
              "<table border=\"1\" class=\"dataframe\">\n",
              "  <thead>\n",
              "    <tr style=\"text-align: right;\">\n",
              "      <th></th>\n",
              "      <th>best_book_id</th>\n",
              "      <th>tag_name</th>\n",
              "    </tr>\n",
              "  </thead>\n",
              "  <tbody>\n",
              "    <tr>\n",
              "      <th>0</th>\n",
              "      <td>1</td>\n",
              "      <td>to-read fantasy favorites currently-reading yo...</td>\n",
              "    </tr>\n",
              "    <tr>\n",
              "      <th>1</th>\n",
              "      <td>2</td>\n",
              "      <td>to-read fantasy favorites currently-reading yo...</td>\n",
              "    </tr>\n",
              "    <tr>\n",
              "      <th>2</th>\n",
              "      <td>3</td>\n",
              "      <td>to-read fantasy favorites currently-reading yo...</td>\n",
              "    </tr>\n",
              "    <tr>\n",
              "      <th>3</th>\n",
              "      <td>5</td>\n",
              "      <td>to-read fantasy favorites currently-reading yo...</td>\n",
              "    </tr>\n",
              "    <tr>\n",
              "      <th>4</th>\n",
              "      <td>6</td>\n",
              "      <td>to-read fantasy young-adult fiction harry-pott...</td>\n",
              "    </tr>\n",
              "  </tbody>\n",
              "</table>\n",
              "</div>"
            ],
            "text/plain": [
              "   best_book_id                                           tag_name\n",
              "0             1  to-read fantasy favorites currently-reading yo...\n",
              "1             2  to-read fantasy favorites currently-reading yo...\n",
              "2             3  to-read fantasy favorites currently-reading yo...\n",
              "3             5  to-read fantasy favorites currently-reading yo...\n",
              "4             6  to-read fantasy young-adult fiction harry-pott..."
            ]
          },
          "metadata": {
            "tags": []
          },
          "execution_count": 7
        }
      ]
    },
    {
      "cell_type": "code",
      "metadata": {
        "id": "8fae-ZV2Fn7w",
        "colab_type": "code",
        "outputId": "18c4ef4d-063d-4585-8913-c5bf2bf4d773",
        "colab": {
          "base_uri": "https://localhost:8080/",
          "height": 454
        }
      },
      "source": [
        "books_df = pd.merge(books_df, temp_df, left_on='best_book_id', right_on='best_book_id', how='inner')\n",
        "books_df.head(3)"
      ],
      "execution_count": 0,
      "outputs": [
        {
          "output_type": "execute_result",
          "data": {
            "text/html": [
              "<div>\n",
              "<style scoped>\n",
              "    .dataframe tbody tr th:only-of-type {\n",
              "        vertical-align: middle;\n",
              "    }\n",
              "\n",
              "    .dataframe tbody tr th {\n",
              "        vertical-align: top;\n",
              "    }\n",
              "\n",
              "    .dataframe thead th {\n",
              "        text-align: right;\n",
              "    }\n",
              "</style>\n",
              "<table border=\"1\" class=\"dataframe\">\n",
              "  <thead>\n",
              "    <tr style=\"text-align: right;\">\n",
              "      <th></th>\n",
              "      <th>goodreads_book_id</th>\n",
              "      <th>best_book_id</th>\n",
              "      <th>work_id</th>\n",
              "      <th>books_count</th>\n",
              "      <th>isbn</th>\n",
              "      <th>isbn13</th>\n",
              "      <th>authors</th>\n",
              "      <th>original_publication_year</th>\n",
              "      <th>original_title</th>\n",
              "      <th>title</th>\n",
              "      <th>...</th>\n",
              "      <th>work_ratings_count</th>\n",
              "      <th>work_text_reviews_count</th>\n",
              "      <th>ratings_1</th>\n",
              "      <th>ratings_2</th>\n",
              "      <th>ratings_3</th>\n",
              "      <th>ratings_4</th>\n",
              "      <th>ratings_5</th>\n",
              "      <th>image_url</th>\n",
              "      <th>small_image_url</th>\n",
              "      <th>tag_name</th>\n",
              "    </tr>\n",
              "  </thead>\n",
              "  <tbody>\n",
              "    <tr>\n",
              "      <th>0</th>\n",
              "      <td>2767052</td>\n",
              "      <td>2767052</td>\n",
              "      <td>2792775</td>\n",
              "      <td>272</td>\n",
              "      <td>439023483</td>\n",
              "      <td>9.780439e+12</td>\n",
              "      <td>Suzanne Collins</td>\n",
              "      <td>2008.0</td>\n",
              "      <td>The Hunger Games</td>\n",
              "      <td>The Hunger Games (The Hunger Games, #1)</td>\n",
              "      <td>...</td>\n",
              "      <td>4942365</td>\n",
              "      <td>155254</td>\n",
              "      <td>66715</td>\n",
              "      <td>127936</td>\n",
              "      <td>560092</td>\n",
              "      <td>1481305</td>\n",
              "      <td>2706317</td>\n",
              "      <td>https://images.gr-assets.com/books/1447303603m...</td>\n",
              "      <td>https://images.gr-assets.com/books/1447303603s...</td>\n",
              "      <td>to-read fantasy favorites currently-reading yo...</td>\n",
              "    </tr>\n",
              "    <tr>\n",
              "      <th>1</th>\n",
              "      <td>3</td>\n",
              "      <td>3</td>\n",
              "      <td>4640799</td>\n",
              "      <td>491</td>\n",
              "      <td>439554934</td>\n",
              "      <td>9.780440e+12</td>\n",
              "      <td>J.K. Rowling, Mary GrandPré</td>\n",
              "      <td>1997.0</td>\n",
              "      <td>Harry Potter and the Philosopher's Stone</td>\n",
              "      <td>Harry Potter and the Sorcerer's Stone (Harry P...</td>\n",
              "      <td>...</td>\n",
              "      <td>4800065</td>\n",
              "      <td>75867</td>\n",
              "      <td>75504</td>\n",
              "      <td>101676</td>\n",
              "      <td>455024</td>\n",
              "      <td>1156318</td>\n",
              "      <td>3011543</td>\n",
              "      <td>https://images.gr-assets.com/books/1474154022m...</td>\n",
              "      <td>https://images.gr-assets.com/books/1474154022s...</td>\n",
              "      <td>to-read fantasy favorites currently-reading yo...</td>\n",
              "    </tr>\n",
              "    <tr>\n",
              "      <th>2</th>\n",
              "      <td>41865</td>\n",
              "      <td>41865</td>\n",
              "      <td>3212258</td>\n",
              "      <td>226</td>\n",
              "      <td>316015849</td>\n",
              "      <td>9.780316e+12</td>\n",
              "      <td>Stephenie Meyer</td>\n",
              "      <td>2005.0</td>\n",
              "      <td>Twilight</td>\n",
              "      <td>Twilight (Twilight, #1)</td>\n",
              "      <td>...</td>\n",
              "      <td>3916824</td>\n",
              "      <td>95009</td>\n",
              "      <td>456191</td>\n",
              "      <td>436802</td>\n",
              "      <td>793319</td>\n",
              "      <td>875073</td>\n",
              "      <td>1355439</td>\n",
              "      <td>https://images.gr-assets.com/books/1361039443m...</td>\n",
              "      <td>https://images.gr-assets.com/books/1361039443s...</td>\n",
              "      <td>to-read fantasy favorites currently-reading yo...</td>\n",
              "    </tr>\n",
              "  </tbody>\n",
              "</table>\n",
              "<p>3 rows × 23 columns</p>\n",
              "</div>"
            ],
            "text/plain": [
              "   goodreads_book_id  best_book_id  work_id  books_count       isbn  \\\n",
              "0            2767052       2767052  2792775          272  439023483   \n",
              "1                  3             3  4640799          491  439554934   \n",
              "2              41865         41865  3212258          226  316015849   \n",
              "\n",
              "         isbn13                      authors  original_publication_year  \\\n",
              "0  9.780439e+12              Suzanne Collins                     2008.0   \n",
              "1  9.780440e+12  J.K. Rowling, Mary GrandPré                     1997.0   \n",
              "2  9.780316e+12              Stephenie Meyer                     2005.0   \n",
              "\n",
              "                             original_title  \\\n",
              "0                          The Hunger Games   \n",
              "1  Harry Potter and the Philosopher's Stone   \n",
              "2                                  Twilight   \n",
              "\n",
              "                                               title  \\\n",
              "0            The Hunger Games (The Hunger Games, #1)   \n",
              "1  Harry Potter and the Sorcerer's Stone (Harry P...   \n",
              "2                            Twilight (Twilight, #1)   \n",
              "\n",
              "                         ...                         work_ratings_count  \\\n",
              "0                        ...                                    4942365   \n",
              "1                        ...                                    4800065   \n",
              "2                        ...                                    3916824   \n",
              "\n",
              "   work_text_reviews_count  ratings_1  ratings_2  ratings_3  ratings_4  \\\n",
              "0                   155254      66715     127936     560092    1481305   \n",
              "1                    75867      75504     101676     455024    1156318   \n",
              "2                    95009     456191     436802     793319     875073   \n",
              "\n",
              "   ratings_5                                          image_url  \\\n",
              "0    2706317  https://images.gr-assets.com/books/1447303603m...   \n",
              "1    3011543  https://images.gr-assets.com/books/1474154022m...   \n",
              "2    1355439  https://images.gr-assets.com/books/1361039443m...   \n",
              "\n",
              "                                     small_image_url  \\\n",
              "0  https://images.gr-assets.com/books/1447303603s...   \n",
              "1  https://images.gr-assets.com/books/1474154022s...   \n",
              "2  https://images.gr-assets.com/books/1361039443s...   \n",
              "\n",
              "                                            tag_name  \n",
              "0  to-read fantasy favorites currently-reading yo...  \n",
              "1  to-read fantasy favorites currently-reading yo...  \n",
              "2  to-read fantasy favorites currently-reading yo...  \n",
              "\n",
              "[3 rows x 23 columns]"
            ]
          },
          "metadata": {
            "tags": []
          },
          "execution_count": 8
        }
      ]
    },
    {
      "cell_type": "code",
      "metadata": {
        "id": "2FtatrLNQHoB",
        "colab_type": "code",
        "outputId": "cb746677-b41b-4737-9b88-71a0d9cf8fee",
        "colab": {
          "base_uri": "https://localhost:8080/",
          "height": 140
        }
      },
      "source": [
        "books_df.columns"
      ],
      "execution_count": 0,
      "outputs": [
        {
          "output_type": "execute_result",
          "data": {
            "text/plain": [
              "Index(['goodreads_book_id', 'best_book_id', 'work_id', 'books_count', 'isbn',\n",
              "       'isbn13', 'authors', 'original_publication_year', 'original_title',\n",
              "       'title', 'language_code', 'average_rating', 'ratings_count',\n",
              "       'work_ratings_count', 'work_text_reviews_count', 'ratings_1',\n",
              "       'ratings_2', 'ratings_3', 'ratings_4', 'ratings_5', 'image_url',\n",
              "       'small_image_url', 'tag_name'],\n",
              "      dtype='object')"
            ]
          },
          "metadata": {
            "tags": []
          },
          "execution_count": 9
        }
      ]
    },
    {
      "cell_type": "code",
      "metadata": {
        "id": "ltsc__d_QHoG",
        "colab_type": "code",
        "colab": {}
      },
      "source": [
        ""
      ],
      "execution_count": 0,
      "outputs": []
    },
    {
      "cell_type": "markdown",
      "metadata": {
        "id": "H-lcw_2gQHoK",
        "colab_type": "text"
      },
      "source": [
        "Data Clean Tasks:\n",
        "remove columns [1,2,4,5,8,13,14,15,16,17,18,19,20,21]\n",
        "change original_publication_year to just YYYY\n",
        "parse non-english books and find english titles for text\n",
        "eliminate redundant data (if any)\n",
        "add mean, median, mode rating for each book\n",
        "add genres (try adding with isbn API; incorporate top ten shelves per book from xml files)"
      ]
    },
    {
      "cell_type": "code",
      "metadata": {
        "id": "BbYZ9JYmQHoL",
        "colab_type": "code",
        "outputId": "bfad2ae8-9e56-4685-fca2-9a0337b58309",
        "colab": {
          "base_uri": "https://localhost:8080/",
          "height": 615
        }
      },
      "source": [
        "# Remove columns [1,2,4,5,8,13,14,15,16,17,18,19,20,21]. These columns either contain duplicate or irrelevant information for this project\n",
        "\n",
        "books_df.drop(books_df.columns[[1,2,4,5,8,13,14,15,16,17,18,19,20,21]], axis=1, inplace=True)\n",
        "books_df.head()"
      ],
      "execution_count": 0,
      "outputs": [
        {
          "output_type": "execute_result",
          "data": {
            "text/html": [
              "<div>\n",
              "<style scoped>\n",
              "    .dataframe tbody tr th:only-of-type {\n",
              "        vertical-align: middle;\n",
              "    }\n",
              "\n",
              "    .dataframe tbody tr th {\n",
              "        vertical-align: top;\n",
              "    }\n",
              "\n",
              "    .dataframe thead th {\n",
              "        text-align: right;\n",
              "    }\n",
              "</style>\n",
              "<table border=\"1\" class=\"dataframe\">\n",
              "  <thead>\n",
              "    <tr style=\"text-align: right;\">\n",
              "      <th></th>\n",
              "      <th>goodreads_book_id</th>\n",
              "      <th>books_count</th>\n",
              "      <th>authors</th>\n",
              "      <th>original_publication_year</th>\n",
              "      <th>title</th>\n",
              "      <th>language_code</th>\n",
              "      <th>average_rating</th>\n",
              "      <th>ratings_count</th>\n",
              "      <th>tag_name</th>\n",
              "    </tr>\n",
              "  </thead>\n",
              "  <tbody>\n",
              "    <tr>\n",
              "      <th>0</th>\n",
              "      <td>2767052</td>\n",
              "      <td>272</td>\n",
              "      <td>Suzanne Collins</td>\n",
              "      <td>2008.0</td>\n",
              "      <td>The Hunger Games (The Hunger Games, #1)</td>\n",
              "      <td>eng</td>\n",
              "      <td>4.34</td>\n",
              "      <td>4780653</td>\n",
              "      <td>to-read fantasy favorites currently-reading yo...</td>\n",
              "    </tr>\n",
              "    <tr>\n",
              "      <th>1</th>\n",
              "      <td>3</td>\n",
              "      <td>491</td>\n",
              "      <td>J.K. Rowling, Mary GrandPré</td>\n",
              "      <td>1997.0</td>\n",
              "      <td>Harry Potter and the Sorcerer's Stone (Harry P...</td>\n",
              "      <td>eng</td>\n",
              "      <td>4.44</td>\n",
              "      <td>4602479</td>\n",
              "      <td>to-read fantasy favorites currently-reading yo...</td>\n",
              "    </tr>\n",
              "    <tr>\n",
              "      <th>2</th>\n",
              "      <td>41865</td>\n",
              "      <td>226</td>\n",
              "      <td>Stephenie Meyer</td>\n",
              "      <td>2005.0</td>\n",
              "      <td>Twilight (Twilight, #1)</td>\n",
              "      <td>en-US</td>\n",
              "      <td>3.57</td>\n",
              "      <td>3866839</td>\n",
              "      <td>to-read fantasy favorites currently-reading yo...</td>\n",
              "    </tr>\n",
              "    <tr>\n",
              "      <th>3</th>\n",
              "      <td>2657</td>\n",
              "      <td>487</td>\n",
              "      <td>Harper Lee</td>\n",
              "      <td>1960.0</td>\n",
              "      <td>To Kill a Mockingbird</td>\n",
              "      <td>eng</td>\n",
              "      <td>4.25</td>\n",
              "      <td>3198671</td>\n",
              "      <td>to-read favorites currently-reading young-adul...</td>\n",
              "    </tr>\n",
              "    <tr>\n",
              "      <th>4</th>\n",
              "      <td>4671</td>\n",
              "      <td>1356</td>\n",
              "      <td>F. Scott Fitzgerald</td>\n",
              "      <td>1925.0</td>\n",
              "      <td>The Great Gatsby</td>\n",
              "      <td>eng</td>\n",
              "      <td>3.89</td>\n",
              "      <td>2683664</td>\n",
              "      <td>to-read favorites currently-reading young-adul...</td>\n",
              "    </tr>\n",
              "  </tbody>\n",
              "</table>\n",
              "</div>"
            ],
            "text/plain": [
              "   goodreads_book_id  books_count                      authors  \\\n",
              "0            2767052          272              Suzanne Collins   \n",
              "1                  3          491  J.K. Rowling, Mary GrandPré   \n",
              "2              41865          226              Stephenie Meyer   \n",
              "3               2657          487                   Harper Lee   \n",
              "4               4671         1356          F. Scott Fitzgerald   \n",
              "\n",
              "   original_publication_year  \\\n",
              "0                     2008.0   \n",
              "1                     1997.0   \n",
              "2                     2005.0   \n",
              "3                     1960.0   \n",
              "4                     1925.0   \n",
              "\n",
              "                                               title language_code  \\\n",
              "0            The Hunger Games (The Hunger Games, #1)           eng   \n",
              "1  Harry Potter and the Sorcerer's Stone (Harry P...           eng   \n",
              "2                            Twilight (Twilight, #1)         en-US   \n",
              "3                              To Kill a Mockingbird           eng   \n",
              "4                                   The Great Gatsby           eng   \n",
              "\n",
              "   average_rating  ratings_count  \\\n",
              "0            4.34        4780653   \n",
              "1            4.44        4602479   \n",
              "2            3.57        3866839   \n",
              "3            4.25        3198671   \n",
              "4            3.89        2683664   \n",
              "\n",
              "                                            tag_name  \n",
              "0  to-read fantasy favorites currently-reading yo...  \n",
              "1  to-read fantasy favorites currently-reading yo...  \n",
              "2  to-read fantasy favorites currently-reading yo...  \n",
              "3  to-read favorites currently-reading young-adul...  \n",
              "4  to-read favorites currently-reading young-adul...  "
            ]
          },
          "metadata": {
            "tags": []
          },
          "execution_count": 10
        }
      ]
    },
    {
      "cell_type": "code",
      "metadata": {
        "id": "jv18M-SzQHoQ",
        "colab_type": "code",
        "colab": {}
      },
      "source": [
        "#rename columns\n",
        "books_df = books_df.rename(columns={'language_code': 'lang', 'original_publication_year': 'year'})"
      ],
      "execution_count": 0,
      "outputs": []
    },
    {
      "cell_type": "code",
      "metadata": {
        "scrolled": true,
        "id": "nq6T9SIsQHoW",
        "colab_type": "code",
        "outputId": "5390a007-907e-4072-8e80-0e8a0d4b548b",
        "colab": {
          "base_uri": "https://localhost:8080/",
          "height": 47
        }
      },
      "source": [
        "# Fill in missing book year values\n",
        "books_df.loc[9688, 'year'] = 2006\n",
        "books_df[books_df.year.isnull()].head(3)"
      ],
      "execution_count": 0,
      "outputs": [
        {
          "output_type": "execute_result",
          "data": {
            "text/html": [
              "<div>\n",
              "<style scoped>\n",
              "    .dataframe tbody tr th:only-of-type {\n",
              "        vertical-align: middle;\n",
              "    }\n",
              "\n",
              "    .dataframe tbody tr th {\n",
              "        vertical-align: top;\n",
              "    }\n",
              "\n",
              "    .dataframe thead th {\n",
              "        text-align: right;\n",
              "    }\n",
              "</style>\n",
              "<table border=\"1\" class=\"dataframe\">\n",
              "  <thead>\n",
              "    <tr style=\"text-align: right;\">\n",
              "      <th></th>\n",
              "      <th>goodreads_book_id</th>\n",
              "      <th>books_count</th>\n",
              "      <th>authors</th>\n",
              "      <th>year</th>\n",
              "      <th>title</th>\n",
              "      <th>lang</th>\n",
              "      <th>average_rating</th>\n",
              "      <th>ratings_count</th>\n",
              "      <th>tag_name</th>\n",
              "    </tr>\n",
              "  </thead>\n",
              "  <tbody>\n",
              "  </tbody>\n",
              "</table>\n",
              "</div>"
            ],
            "text/plain": [
              "Empty DataFrame\n",
              "Columns: [goodreads_book_id, books_count, authors, year, title, lang, average_rating, ratings_count, tag_name]\n",
              "Index: []"
            ]
          },
          "metadata": {
            "tags": []
          },
          "execution_count": 33
        }
      ]
    },
    {
      "cell_type": "markdown",
      "metadata": {
        "id": "qQKSMvXaQHob",
        "colab_type": "text"
      },
      "source": [
        "# Missing Values\n",
        "\n",
        "Found there are 21 NAN values in the Year column. Since the amount is so low, I will manually replace the nan values with the correct years.\n",
        "\n",
        "There are 700 missing ISBNs from the DataFrame. Though there are methods for finding the missing values programatically. I have decided to drop these two columns from the DataFrame. According the isbn.org, each 10 or 13 digit number assigned to every book does not correspond with the genre. (https://www.isbn.org/faqs_general_questions). \n",
        "\n",
        "I will reference the books by their goodreads_book_id. This will help reference each book in the other dataframes that are attached to this dataset as well. \n",
        "\n",
        "There are 1084 books that have nan values for lang (book language) upon review of all the books, they are all in english and the nan value can be replaced with 'eng'\n",
        "\n",
        "There are 67 books that are in Arabic and Persian, in which there might not be English translations or said translations aren't the version of the book the reviews are referring. It would be exceedingly difficult to compare the data with the english or english translation books"
      ]
    },
    {
      "cell_type": "code",
      "metadata": {
        "id": "oGC2SwG9QHoc",
        "colab_type": "code",
        "outputId": "b6a5ae34-4dba-488b-9601-c32b950f3ff9",
        "colab": {
          "base_uri": "https://localhost:8080/",
          "height": 87
        }
      },
      "source": [
        "#Unique columns\n",
        "books_df.lang.unique()"
      ],
      "execution_count": 0,
      "outputs": [
        {
          "output_type": "execute_result",
          "data": {
            "text/plain": [
              "array(['eng', 'en-US', 'en-CA', nan, 'spa', 'en-GB', 'fre', 'nl', 'ara',\n",
              "       'por', 'ger', 'nor', 'jpn', 'vie', 'en', 'ind', 'pol', 'tur',\n",
              "       'dan', 'fil', 'ita', 'per', 'swe', 'rum', 'mul', 'rus'],\n",
              "      dtype=object)"
            ]
          },
          "metadata": {
            "tags": []
          },
          "execution_count": 34
        }
      ]
    },
    {
      "cell_type": "code",
      "metadata": {
        "id": "zI71sgrzQHog",
        "colab_type": "code",
        "colab": {}
      },
      "source": [
        "#Change all English books to 'eng'\n",
        "books_df = books_df.replace({'lang' : { 'en-US': 'eng', 'en-CA': 'eng', 'en-GB': 'eng', 'en': 'eng'}})\n"
      ],
      "execution_count": 0,
      "outputs": []
    },
    {
      "cell_type": "code",
      "metadata": {
        "id": "8zBCGBW5QHoj",
        "colab_type": "code",
        "colab": {}
      },
      "source": [
        "# Analyze individual languages\n",
        "# books_df[books_df.lang.isnull()]\n",
        "books_df2 = books_df.lang.fillna('eng', inplace=True)\n",
        "#books_df.head()"
      ],
      "execution_count": 0,
      "outputs": []
    },
    {
      "cell_type": "code",
      "metadata": {
        "id": "9BaDZToQQHom",
        "colab_type": "code",
        "colab": {}
      },
      "source": [
        "# dropped books\n",
        "# Any books by BookRags; they make study guides and lesson plans based on books. \n",
        "books_df = books_df[books_df.authors != 'BookRags']"
      ],
      "execution_count": 0,
      "outputs": []
    },
    {
      "cell_type": "code",
      "metadata": {
        "id": "m2V7xxLHQHop",
        "colab_type": "code",
        "colab": {}
      },
      "source": [
        "books_df = books_df[books_df.lang != 'ara']\n",
        "books_df = books_df[books_df.lang != 'per']"
      ],
      "execution_count": 0,
      "outputs": []
    },
    {
      "cell_type": "code",
      "metadata": {
        "id": "FpVqU_1iQHow",
        "colab_type": "code",
        "colab": {}
      },
      "source": [
        "nebooks_df = books_df[books_df.lang != 'eng']\n",
        "# nebooks_df"
      ],
      "execution_count": 0,
      "outputs": []
    },
    {
      "cell_type": "code",
      "metadata": {
        "id": "U5rQGDD_cfR1",
        "colab_type": "code",
        "outputId": "1e3641fc-d82d-45e6-8097-8aa5e23617c9",
        "colab": {
          "base_uri": "https://localhost:8080/",
          "height": 70
        }
      },
      "source": [
        "books_df.lang.unique()"
      ],
      "execution_count": 0,
      "outputs": [
        {
          "output_type": "execute_result",
          "data": {
            "text/plain": [
              "array(['eng', 'spa', 'fre', 'nl', 'por', 'ger', 'nor', 'jpn', 'vie',\n",
              "       'ind', 'pol', 'tur', 'dan', 'fil', 'ita', 'swe', 'rum', 'mul',\n",
              "       'rus'], dtype=object)"
            ]
          },
          "metadata": {
            "tags": []
          },
          "execution_count": 41
        }
      ]
    },
    {
      "cell_type": "code",
      "metadata": {
        "id": "OMjW6QXxQHo0",
        "colab_type": "code",
        "colab": {}
      },
      "source": [
        "df = books_df.copy()"
      ],
      "execution_count": 0,
      "outputs": []
    },
    {
      "cell_type": "code",
      "metadata": {
        "id": "rNJ9uHSHe7I0",
        "colab_type": "code",
        "colab": {}
      },
      "source": [
        "df.year = df.year.astype(int)"
      ],
      "execution_count": 0,
      "outputs": []
    },
    {
      "cell_type": "code",
      "metadata": {
        "id": "IsNwZ8yaewlC",
        "colab_type": "code",
        "outputId": "b89578df-dae8-4da0-9d74-3bc52f794895",
        "colab": {
          "base_uri": "https://localhost:8080/",
          "height": 263
        }
      },
      "source": [
        "df.info()"
      ],
      "execution_count": 0,
      "outputs": [
        {
          "output_type": "stream",
          "text": [
            "<class 'pandas.core.frame.DataFrame'>\n",
            "Int64Index: 9689 entries, 0 to 9758\n",
            "Data columns (total 9 columns):\n",
            "goodreads_book_id    9689 non-null int64\n",
            "books_count          9689 non-null int64\n",
            "authors              9689 non-null object\n",
            "year                 9689 non-null int64\n",
            "title                9689 non-null object\n",
            "lang                 9689 non-null object\n",
            "average_rating       9689 non-null float64\n",
            "ratings_count        9689 non-null int64\n",
            "tag_name             9689 non-null object\n",
            "dtypes: float64(1), int64(4), object(4)\n",
            "memory usage: 1.1+ MB\n"
          ],
          "name": "stdout"
        }
      ]
    },
    {
      "cell_type": "code",
      "metadata": {
        "id": "1Ll7zPPRc-N8",
        "colab_type": "code",
        "outputId": "a9246d3f-daaf-4c40-a5fa-69914100e8c7",
        "colab": {
          "base_uri": "https://localhost:8080/",
          "height": 284
        }
      },
      "source": [
        "df.describe()"
      ],
      "execution_count": 0,
      "outputs": [
        {
          "output_type": "execute_result",
          "data": {
            "text/html": [
              "<div>\n",
              "<style scoped>\n",
              "    .dataframe tbody tr th:only-of-type {\n",
              "        vertical-align: middle;\n",
              "    }\n",
              "\n",
              "    .dataframe tbody tr th {\n",
              "        vertical-align: top;\n",
              "    }\n",
              "\n",
              "    .dataframe thead th {\n",
              "        text-align: right;\n",
              "    }\n",
              "</style>\n",
              "<table border=\"1\" class=\"dataframe\">\n",
              "  <thead>\n",
              "    <tr style=\"text-align: right;\">\n",
              "      <th></th>\n",
              "      <th>goodreads_book_id</th>\n",
              "      <th>books_count</th>\n",
              "      <th>year</th>\n",
              "      <th>average_rating</th>\n",
              "      <th>ratings_count</th>\n",
              "    </tr>\n",
              "  </thead>\n",
              "  <tbody>\n",
              "    <tr>\n",
              "      <th>count</th>\n",
              "      <td>9.689000e+03</td>\n",
              "      <td>9689.000000</td>\n",
              "      <td>9689.000000</td>\n",
              "      <td>9689.000000</td>\n",
              "      <td>9.689000e+03</td>\n",
              "    </tr>\n",
              "    <tr>\n",
              "      <th>mean</th>\n",
              "      <td>5.118851e+06</td>\n",
              "      <td>76.284240</td>\n",
              "      <td>1981.891423</td>\n",
              "      <td>4.002992</td>\n",
              "      <td>5.431499e+04</td>\n",
              "    </tr>\n",
              "    <tr>\n",
              "      <th>std</th>\n",
              "      <td>7.491680e+06</td>\n",
              "      <td>171.910376</td>\n",
              "      <td>152.130742</td>\n",
              "      <td>0.253690</td>\n",
              "      <td>1.584891e+05</td>\n",
              "    </tr>\n",
              "    <tr>\n",
              "      <th>min</th>\n",
              "      <td>1.000000e+00</td>\n",
              "      <td>1.000000</td>\n",
              "      <td>-1750.000000</td>\n",
              "      <td>2.470000</td>\n",
              "      <td>2.773000e+03</td>\n",
              "    </tr>\n",
              "    <tr>\n",
              "      <th>25%</th>\n",
              "      <td>4.510800e+04</td>\n",
              "      <td>23.000000</td>\n",
              "      <td>1990.000000</td>\n",
              "      <td>3.850000</td>\n",
              "      <td>1.368300e+04</td>\n",
              "    </tr>\n",
              "    <tr>\n",
              "      <th>50%</th>\n",
              "      <td>3.684680e+05</td>\n",
              "      <td>40.000000</td>\n",
              "      <td>2004.000000</td>\n",
              "      <td>4.020000</td>\n",
              "      <td>2.135800e+04</td>\n",
              "    </tr>\n",
              "    <tr>\n",
              "      <th>75%</th>\n",
              "      <td>8.709523e+06</td>\n",
              "      <td>67.000000</td>\n",
              "      <td>2011.000000</td>\n",
              "      <td>4.180000</td>\n",
              "      <td>4.127100e+04</td>\n",
              "    </tr>\n",
              "    <tr>\n",
              "      <th>max</th>\n",
              "      <td>3.328864e+07</td>\n",
              "      <td>3455.000000</td>\n",
              "      <td>2017.000000</td>\n",
              "      <td>4.820000</td>\n",
              "      <td>4.780653e+06</td>\n",
              "    </tr>\n",
              "  </tbody>\n",
              "</table>\n",
              "</div>"
            ],
            "text/plain": [
              "       goodreads_book_id  books_count         year  average_rating  \\\n",
              "count       9.689000e+03  9689.000000  9689.000000     9689.000000   \n",
              "mean        5.118851e+06    76.284240  1981.891423        4.002992   \n",
              "std         7.491680e+06   171.910376   152.130742        0.253690   \n",
              "min         1.000000e+00     1.000000 -1750.000000        2.470000   \n",
              "25%         4.510800e+04    23.000000  1990.000000        3.850000   \n",
              "50%         3.684680e+05    40.000000  2004.000000        4.020000   \n",
              "75%         8.709523e+06    67.000000  2011.000000        4.180000   \n",
              "max         3.328864e+07  3455.000000  2017.000000        4.820000   \n",
              "\n",
              "       ratings_count  \n",
              "count   9.689000e+03  \n",
              "mean    5.431499e+04  \n",
              "std     1.584891e+05  \n",
              "min     2.773000e+03  \n",
              "25%     1.368300e+04  \n",
              "50%     2.135800e+04  \n",
              "75%     4.127100e+04  \n",
              "max     4.780653e+06  "
            ]
          },
          "metadata": {
            "tags": []
          },
          "execution_count": 57
        }
      ]
    },
    {
      "cell_type": "code",
      "metadata": {
        "id": "q7f07QtbQHo6",
        "colab_type": "code",
        "outputId": "57761c38-ef0c-439b-ffc8-7c3aef16268b",
        "colab": {
          "base_uri": "https://localhost:8080/",
          "height": 175
        }
      },
      "source": [
        "# Visual Data Exploration\n",
        "%matplotlib inline\n",
        "\n",
        "# Average rating for all books\n",
        "df.average_rating.describe()"
      ],
      "execution_count": 0,
      "outputs": [
        {
          "output_type": "execute_result",
          "data": {
            "text/plain": [
              "count    9689.000000\n",
              "mean        4.002992\n",
              "std         0.253690\n",
              "min         2.470000\n",
              "25%         3.850000\n",
              "50%         4.020000\n",
              "75%         4.180000\n",
              "max         4.820000\n",
              "Name: average_rating, dtype: float64"
            ]
          },
          "metadata": {
            "tags": []
          },
          "execution_count": 44
        }
      ]
    },
    {
      "cell_type": "code",
      "metadata": {
        "id": "GCL15F15QHpF",
        "colab_type": "code",
        "outputId": "733769e9-a034-4fc6-fffd-7a3951c2b04b",
        "colab": {
          "base_uri": "https://localhost:8080/",
          "height": 1273
        }
      },
      "source": [
        "df.hist(bins=100, figsize= (15, 20))\n"
      ],
      "execution_count": 0,
      "outputs": [
        {
          "output_type": "execute_result",
          "data": {
            "text/plain": [
              "array([[<matplotlib.axes._subplots.AxesSubplot object at 0x7f6978982c18>,\n",
              "        <matplotlib.axes._subplots.AxesSubplot object at 0x7f69788d02b0>],\n",
              "       [<matplotlib.axes._subplots.AxesSubplot object at 0x7f69788f6908>,\n",
              "        <matplotlib.axes._subplots.AxesSubplot object at 0x7f697889cf60>],\n",
              "       [<matplotlib.axes._subplots.AxesSubplot object at 0x7f697884e5f8>,\n",
              "        <matplotlib.axes._subplots.AxesSubplot object at 0x7f6978873c50>]],\n",
              "      dtype=object)"
            ]
          },
          "metadata": {
            "tags": []
          },
          "execution_count": 45
        },
        {
          "output_type": "display_data",
          "data": {
            "image/png": "[encoded data removed]",
            "text/plain": [
              "<Figure size 1080x1440 with 6 Axes>"
            ]
          },
          "metadata": {
            "tags": []
          }
        }
      ]
    },
    {
      "cell_type": "markdown",
      "metadata": {
        "id": "76Vp-UszQHpI",
        "colab_type": "text"
      },
      "source": [
        "Based on preliminary visual data exploration, it appears there is mean book rating is 4.00, slightly lower than the median 4.02. Many of the ratings_ catergories are tail heavy. These will be transformed later to have more of a bell shape. Below I will compare each ratings_ category with respect to the average book rating to see if there are any correllations."
      ]
    },
    {
      "cell_type": "code",
      "metadata": {
        "id": "VrWmKPh4QHpJ",
        "colab_type": "code",
        "outputId": "cf0ddd0a-1a3a-4e53-fb9a-7eea1ec0fde7",
        "colab": {
          "base_uri": "https://localhost:8080/",
          "height": 338
        }
      },
      "source": [
        "df.plot.scatter(x='average_rating', y='ratings_count')"
      ],
      "execution_count": 0,
      "outputs": [
        {
          "output_type": "stream",
          "text": [
            "'c' argument looks like a single numeric RGB or RGBA sequence, which should be avoided as value-mapping will have precedence in case its length matches with 'x' & 'y'.  Please use a 2-D array with a single row if you really want to specify the same RGB or RGBA value for all points.\n"
          ],
          "name": "stderr"
        },
        {
          "output_type": "execute_result",
          "data": {
            "text/plain": [
              "<matplotlib.axes._subplots.AxesSubplot at 0x7f697625b0f0>"
            ]
          },
          "metadata": {
            "tags": []
          },
          "execution_count": 46
        },
        {
          "output_type": "display_data",
          "data": {
            "image/png": "[encoded data removed]",
            "text/plain": [
              "<Figure size 432x288 with 1 Axes>"
            ]
          },
          "metadata": {
            "tags": []
          }
        }
      ]
    },
    {
      "cell_type": "markdown",
      "metadata": {
        "id": "xGl9QC6sQHpQ",
        "colab_type": "text"
      },
      "source": [
        "No real insights can be made from comparing the average rating with each of the amount of ratings per book. "
      ]
    },
    {
      "cell_type": "code",
      "metadata": {
        "id": "1GSTq_PIQHpT",
        "colab_type": "code",
        "outputId": "e1f76289-b4ef-472c-d18b-a6c3c86ae08f",
        "colab": {
          "base_uri": "https://localhost:8080/",
          "height": 331
        }
      },
      "source": [
        "_ = df.plot.scatter(x='year', y='average_rating')\n",
        "_ = plt.xlabel('Year')\n",
        "_ = plt.ylabel('Average Rating (5.0 scale)')\n",
        "_ = plt.title('Year vs Average Rating')\n",
        "_ = plt.show()"
      ],
      "execution_count": 0,
      "outputs": [
        {
          "output_type": "stream",
          "text": [
            "'c' argument looks like a single numeric RGB or RGBA sequence, which should be avoided as value-mapping will have precedence in case its length matches with 'x' & 'y'.  Please use a 2-D array with a single row if you really want to specify the same RGB or RGBA value for all points.\n"
          ],
          "name": "stderr"
        },
        {
          "output_type": "display_data",
          "data": {
            "image/png": "[encoded data removed]",
            "text/plain": [
              "<Figure size 432x288 with 1 Axes>"
            ]
          },
          "metadata": {
            "tags": []
          }
        }
      ]
    },
    {
      "cell_type": "code",
      "metadata": {
        "id": "u1wXa8tQM4-X",
        "colab_type": "code",
        "colab": {}
      },
      "source": [
        "df.to_csv('df.csv', index=False)\n",
        "df.head()"
      ],
      "execution_count": 0,
      "outputs": []
    },
    {
      "cell_type": "markdown",
      "metadata": {
        "id": "B_12PNSjOqAU",
        "colab_type": "text"
      },
      "source": [
        "<ol>Steps:\n",
        "Ask the following questions and look for the answers using code and plots:\n",
        "<li>Can you count something interesting?</li>\n",
        "  <li>Can you find trends (e.g. high, low, increasing, decreasing, anomalies)?</li>\n",
        "  <li>Can you make a bar plot or a histogram?</li>\n",
        "  <li>Can you compare two related quantities?</li>\n",
        "  <li>Can you make a scatterplot?</li>\n",
        "  <li>Can you make a time-series plot?</li>\n",
        "<ul>Looking at the plots, what are some insights you can make? Do you see any correlations? Is there a hypothesis you’d like to investigate further? What other questions do the insights lead you to ask?\n",
        "Now that you’ve asked questions, hopefully you’ve found some interesting insights. Is there a narrative or a way of presenting the insights using text and plots that tells a compelling story? What are some other trends/relationships you think will make the story more complete?</ul></ol>\n",
        "\n",
        "\n",
        "---\n",
        "<ol>\n",
        "  <li> Upon first looking at the data I have decided to remove many of the columns that were provided because most were either redundant or not relevant. Also, since I cannot link the book genre to the ISBN, I have decided to no longer pursue the goal of recommending books based outside their genre. Now I will look for other methods to recommend books. One method is by looking at the year or the average rating for a book in conjunction with the author.  </li>\n",
        "  <li> Something interesting I did not expect is the year the book was released doesn't seem to be correlated with its average rating. It seems there is a wide range of average ratings and further analysis is needed to find additional correlations between book rating and year.</li>\n",
        "  <li>I can make bar chart and histograms but as can be seen above, the information doesn't reveal much about the data. A scatter plot is much more useful in this situation.</li>\n",
        "  <li> A scatter plot allows me to compare the year and average rating for each book. Of all the data presented in the original dataset, these two columns seem to be the most useful in my analysis.</li>\n",
        "  <li> Though there is a wide range of time for the year column, there doesn't seem to be any correlation between year and book rating. However, it may be interesting to divide the books into time groups or periods and further compare the data.<li>\n",
        "  <ul>H0: Most books rated are above 4.0 rating regardless of year. </ul>\n",
        "  <ul>Most people want to read new books but don't know where to start. With a recommendation system such as this, people can now find books that are highly rated by other people and can trust that the book will pique their interest. A multitude of institutions can use this as well. A company like Amazon or Goodreads can recommend books to their users which will encourage more customer engagement with their respective brands. In the case of Amazon, this can lead to future sales. Though this dataset doesn't have all the information to make the perfect recommendation, it lays the groundwork for further developement. </ul>\n"
      ]
    },
    {
      "cell_type": "markdown",
      "metadata": {
        "id": "Y4tR_YuUWX3c",
        "colab_type": "text"
      },
      "source": [
        "# EDA"
      ]
    },
    {
      "cell_type": "code",
      "metadata": {
        "id": "xar1OrJJxV6e",
        "colab_type": "code",
        "outputId": "c98d7de1-4949-4fe5-9949-5ba8528ae2a6",
        "colab": {
          "base_uri": "https://localhost:8080/",
          "height": 279
        }
      },
      "source": [
        "# Load cleaned dataset\n",
        "df_url = 'https://raw.githubusercontent.com/jeydion/Capstone_Project_1/master/df.csv'\n",
        "df = pd.read_csv(df_url, index_col = False)\n",
        "df.head()"
      ],
      "execution_count": 2,
      "outputs": [
        {
          "output_type": "execute_result",
          "data": {
            "text/html": [
              "<div>\n",
              "<style scoped>\n",
              "    .dataframe tbody tr th:only-of-type {\n",
              "        vertical-align: middle;\n",
              "    }\n",
              "\n",
              "    .dataframe tbody tr th {\n",
              "        vertical-align: top;\n",
              "    }\n",
              "\n",
              "    .dataframe thead th {\n",
              "        text-align: right;\n",
              "    }\n",
              "</style>\n",
              "<table border=\"1\" class=\"dataframe\">\n",
              "  <thead>\n",
              "    <tr style=\"text-align: right;\">\n",
              "      <th></th>\n",
              "      <th>goodreads_book_id</th>\n",
              "      <th>books_count</th>\n",
              "      <th>authors</th>\n",
              "      <th>year</th>\n",
              "      <th>title</th>\n",
              "      <th>lang</th>\n",
              "      <th>average_rating</th>\n",
              "      <th>ratings_count</th>\n",
              "      <th>tag_name</th>\n",
              "    </tr>\n",
              "  </thead>\n",
              "  <tbody>\n",
              "    <tr>\n",
              "      <th>0</th>\n",
              "      <td>2767052</td>\n",
              "      <td>272</td>\n",
              "      <td>Suzanne Collins</td>\n",
              "      <td>2008</td>\n",
              "      <td>The Hunger Games (The Hunger Games, #1)</td>\n",
              "      <td>eng</td>\n",
              "      <td>4.34</td>\n",
              "      <td>4780653</td>\n",
              "      <td>to-read fantasy favorites currently-reading yo...</td>\n",
              "    </tr>\n",
              "    <tr>\n",
              "      <th>1</th>\n",
              "      <td>3</td>\n",
              "      <td>491</td>\n",
              "      <td>J.K. Rowling, Mary GrandPré</td>\n",
              "      <td>1997</td>\n",
              "      <td>Harry Potter and the Sorcerer's Stone (Harry P...</td>\n",
              "      <td>eng</td>\n",
              "      <td>4.44</td>\n",
              "      <td>4602479</td>\n",
              "      <td>to-read fantasy favorites currently-reading yo...</td>\n",
              "    </tr>\n",
              "    <tr>\n",
              "      <th>2</th>\n",
              "      <td>41865</td>\n",
              "      <td>226</td>\n",
              "      <td>Stephenie Meyer</td>\n",
              "      <td>2005</td>\n",
              "      <td>Twilight (Twilight, #1)</td>\n",
              "      <td>eng</td>\n",
              "      <td>3.57</td>\n",
              "      <td>3866839</td>\n",
              "      <td>to-read fantasy favorites currently-reading yo...</td>\n",
              "    </tr>\n",
              "    <tr>\n",
              "      <th>3</th>\n",
              "      <td>2657</td>\n",
              "      <td>487</td>\n",
              "      <td>Harper Lee</td>\n",
              "      <td>1960</td>\n",
              "      <td>To Kill a Mockingbird</td>\n",
              "      <td>eng</td>\n",
              "      <td>4.25</td>\n",
              "      <td>3198671</td>\n",
              "      <td>to-read favorites currently-reading young-adul...</td>\n",
              "    </tr>\n",
              "    <tr>\n",
              "      <th>4</th>\n",
              "      <td>4671</td>\n",
              "      <td>1356</td>\n",
              "      <td>F. Scott Fitzgerald</td>\n",
              "      <td>1925</td>\n",
              "      <td>The Great Gatsby</td>\n",
              "      <td>eng</td>\n",
              "      <td>3.89</td>\n",
              "      <td>2683664</td>\n",
              "      <td>to-read favorites currently-reading young-adul...</td>\n",
              "    </tr>\n",
              "  </tbody>\n",
              "</table>\n",
              "</div>"
            ],
            "text/plain": [
              "   goodreads_book_id  ...                                           tag_name\n",
              "0            2767052  ...  to-read fantasy favorites currently-reading yo...\n",
              "1                  3  ...  to-read fantasy favorites currently-reading yo...\n",
              "2              41865  ...  to-read fantasy favorites currently-reading yo...\n",
              "3               2657  ...  to-read favorites currently-reading young-adul...\n",
              "4               4671  ...  to-read favorites currently-reading young-adul...\n",
              "\n",
              "[5 rows x 9 columns]"
            ]
          },
          "metadata": {
            "tags": []
          },
          "execution_count": 2
        }
      ]
    },
    {
      "cell_type": "code",
      "metadata": {
        "id": "NpxRAzZE1Uiq",
        "colab_type": "code",
        "outputId": "b83c42ff-e16c-4e54-adbc-cf8a03e78adf",
        "colab": {
          "base_uri": "https://localhost:8080/",
          "height": 34
        }
      },
      "source": [
        "df.authors.nunique()"
      ],
      "execution_count": 0,
      "outputs": [
        {
          "output_type": "execute_result",
          "data": {
            "text/plain": [
              "4533"
            ]
          },
          "metadata": {
            "tags": []
          },
          "execution_count": 11
        }
      ]
    },
    {
      "cell_type": "code",
      "metadata": {
        "id": "P6HZ5QOB1g-6",
        "colab_type": "code",
        "outputId": "bd9f81eb-c20c-4881-ee4a-6b0b133ffe8b",
        "colab": {
          "base_uri": "https://localhost:8080/",
          "height": 334
        }
      },
      "source": [
        "()_ = sns.countplot(y=\"authors\",order=df['authors'].value_counts().iloc[:20].index, data=df)"
      ],
      "execution_count": 0,
      "outputs": [
        {
          "output_type": "stream",
          "text": [
            "/usr/local/lib/python3.6/dist-packages/seaborn/categorical.py:1428: FutureWarning: remove_na is deprecated and is a private function. Do not use.\n",
            "  stat_data = remove_na(group_data)\n"
          ],
          "name": "stderr"
        },
        {
          "output_type": "display_data",
          "data": {
            "image/png": "[encoded data removed]",
            "text/plain": [
              "<Figure size 432x288 with 1 Axes>"
            ]
          },
          "metadata": {
            "tags": []
          }
        }
      ]
    },
    {
      "cell_type": "code",
      "metadata": {
        "id": "VAiZ8KNcEhCT",
        "colab_type": "code",
        "outputId": "ee09444c-1adb-42c7-e841-b861c5060abe",
        "colab": {
          "base_uri": "https://localhost:8080/",
          "height": 298
        }
      },
      "source": [
        "df_temp = df.sort_values(by='ratings_count', ascending=True).tail(20)\n",
        "df_temp.plot.barh(x='title', y='ratings_count', title='Top 20 Books with Highest Amount of Ratings')"
      ],
      "execution_count": 0,
      "outputs": [
        {
          "output_type": "execute_result",
          "data": {
            "text/plain": [
              "<matplotlib.axes._subplots.AxesSubplot at 0x7fcbbeec8a20>"
            ]
          },
          "metadata": {
            "tags": []
          },
          "execution_count": 48
        },
        {
          "output_type": "display_data",
          "data": {
            "image/png": "[encoded data removed]",
            "text/plain": [
              "<Figure size 432x288 with 1 Axes>"
            ]
          },
          "metadata": {
            "tags": []
          }
        }
      ]
    },
    {
      "cell_type": "code",
      "metadata": {
        "id": "GVimJsR9CLR0",
        "colab_type": "code",
        "outputId": "cd36c5ef-d807-467c-c357-e4eb1cee3b7e",
        "colab": {
          "base_uri": "https://localhost:8080/",
          "height": 331
        }
      },
      "source": [
        "_ = df.plot.scatter(x='books_count', y='ratings_count')\n",
        "_ = plt.xlabel('Book Count')\n",
        "_ = plt.ylabel('Ratings Count')\n",
        "_ = plt.title('Book Count vs Ratings Count')\n",
        "_ = plt.show()"
      ],
      "execution_count": 0,
      "outputs": [
        {
          "output_type": "stream",
          "text": [
            "'c' argument looks like a single numeric RGB or RGBA sequence, which should be avoided as value-mapping will have precedence in case its length matches with 'x' & 'y'.  Please use a 2-D array with a single row if you really want to specify the same RGB or RGBA value for all points.\n"
          ],
          "name": "stderr"
        },
        {
          "output_type": "display_data",
          "data": {
            "image/png": "[encoded data removed]",
            "text/plain": [
              "<Figure size 432x288 with 1 Axes>"
            ]
          },
          "metadata": {
            "tags": []
          }
        }
      ]
    },
    {
      "cell_type": "code",
      "metadata": {
        "id": "OMj-jI62ZLm_",
        "colab_type": "code",
        "outputId": "86ac486f-d26f-4f96-fead-cf2b9b7d551e",
        "colab": {
          "base_uri": "https://localhost:8080/",
          "height": 284
        }
      },
      "source": [
        "df.describe()"
      ],
      "execution_count": 0,
      "outputs": [
        {
          "output_type": "execute_result",
          "data": {
            "text/html": [
              "<div>\n",
              "<style scoped>\n",
              "    .dataframe tbody tr th:only-of-type {\n",
              "        vertical-align: middle;\n",
              "    }\n",
              "\n",
              "    .dataframe tbody tr th {\n",
              "        vertical-align: top;\n",
              "    }\n",
              "\n",
              "    .dataframe thead th {\n",
              "        text-align: right;\n",
              "    }\n",
              "</style>\n",
              "<table border=\"1\" class=\"dataframe\">\n",
              "  <thead>\n",
              "    <tr style=\"text-align: right;\">\n",
              "      <th></th>\n",
              "      <th>goodreads_book_id</th>\n",
              "      <th>books_count</th>\n",
              "      <th>year</th>\n",
              "      <th>average_rating</th>\n",
              "      <th>ratings_count</th>\n",
              "    </tr>\n",
              "  </thead>\n",
              "  <tbody>\n",
              "    <tr>\n",
              "      <th>count</th>\n",
              "      <td>9.689000e+03</td>\n",
              "      <td>9689.000000</td>\n",
              "      <td>9689.000000</td>\n",
              "      <td>9689.000000</td>\n",
              "      <td>9.689000e+03</td>\n",
              "    </tr>\n",
              "    <tr>\n",
              "      <th>mean</th>\n",
              "      <td>5.118851e+06</td>\n",
              "      <td>76.284240</td>\n",
              "      <td>1981.891423</td>\n",
              "      <td>4.002992</td>\n",
              "      <td>5.431499e+04</td>\n",
              "    </tr>\n",
              "    <tr>\n",
              "      <th>std</th>\n",
              "      <td>7.491680e+06</td>\n",
              "      <td>171.910376</td>\n",
              "      <td>152.130742</td>\n",
              "      <td>0.253690</td>\n",
              "      <td>1.584891e+05</td>\n",
              "    </tr>\n",
              "    <tr>\n",
              "      <th>min</th>\n",
              "      <td>1.000000e+00</td>\n",
              "      <td>1.000000</td>\n",
              "      <td>-1750.000000</td>\n",
              "      <td>2.470000</td>\n",
              "      <td>2.773000e+03</td>\n",
              "    </tr>\n",
              "    <tr>\n",
              "      <th>25%</th>\n",
              "      <td>4.510800e+04</td>\n",
              "      <td>23.000000</td>\n",
              "      <td>1990.000000</td>\n",
              "      <td>3.850000</td>\n",
              "      <td>1.368300e+04</td>\n",
              "    </tr>\n",
              "    <tr>\n",
              "      <th>50%</th>\n",
              "      <td>3.684680e+05</td>\n",
              "      <td>40.000000</td>\n",
              "      <td>2004.000000</td>\n",
              "      <td>4.020000</td>\n",
              "      <td>2.135800e+04</td>\n",
              "    </tr>\n",
              "    <tr>\n",
              "      <th>75%</th>\n",
              "      <td>8.709523e+06</td>\n",
              "      <td>67.000000</td>\n",
              "      <td>2011.000000</td>\n",
              "      <td>4.180000</td>\n",
              "      <td>4.127100e+04</td>\n",
              "    </tr>\n",
              "    <tr>\n",
              "      <th>max</th>\n",
              "      <td>3.328864e+07</td>\n",
              "      <td>3455.000000</td>\n",
              "      <td>2017.000000</td>\n",
              "      <td>4.820000</td>\n",
              "      <td>4.780653e+06</td>\n",
              "    </tr>\n",
              "  </tbody>\n",
              "</table>\n",
              "</div>"
            ],
            "text/plain": [
              "       goodreads_book_id  books_count         year  average_rating  \\\n",
              "count       9.689000e+03  9689.000000  9689.000000     9689.000000   \n",
              "mean        5.118851e+06    76.284240  1981.891423        4.002992   \n",
              "std         7.491680e+06   171.910376   152.130742        0.253690   \n",
              "min         1.000000e+00     1.000000 -1750.000000        2.470000   \n",
              "25%         4.510800e+04    23.000000  1990.000000        3.850000   \n",
              "50%         3.684680e+05    40.000000  2004.000000        4.020000   \n",
              "75%         8.709523e+06    67.000000  2011.000000        4.180000   \n",
              "max         3.328864e+07  3455.000000  2017.000000        4.820000   \n",
              "\n",
              "       ratings_count  \n",
              "count   9.689000e+03  \n",
              "mean    5.431499e+04  \n",
              "std     1.584891e+05  \n",
              "min     2.773000e+03  \n",
              "25%     1.368300e+04  \n",
              "50%     2.135800e+04  \n",
              "75%     4.127100e+04  \n",
              "max     4.780653e+06  "
            ]
          },
          "metadata": {
            "tags": []
          },
          "execution_count": 8
        }
      ]
    },
    {
      "cell_type": "code",
      "metadata": {
        "id": "lBKCsMGPWaiV",
        "colab_type": "code",
        "outputId": "83e7fbbe-468d-4710-84ef-3975d3a54bff",
        "colab": {
          "base_uri": "https://localhost:8080/",
          "height": 294
        }
      },
      "source": [
        "_ = plt.hist(df.average_rating, bins=50)\n",
        "_ = plt.xlabel('Average Rating')\n",
        "_ = plt.ylabel('# of Books')\n",
        "_ = plt.title('Average Book Ratings')\n",
        "_ = plt.show()"
      ],
      "execution_count": 0,
      "outputs": [
        {
          "output_type": "display_data",
          "data": {
            "image/png": "[encoded data removed]",
            "text/plain": [
              "<Figure size 432x288 with 1 Axes>"
            ]
          },
          "metadata": {
            "tags": []
          }
        }
      ]
    },
    {
      "cell_type": "code",
      "metadata": {
        "id": "14X5uaHuoKUP",
        "colab_type": "code",
        "outputId": "38dacc65-5eae-4230-bb23-14d572fdb213",
        "colab": {
          "base_uri": "https://localhost:8080/",
          "height": 334
        }
      },
      "source": [
        "_ = sns.countplot(y=\"lang\",order=df['lang'].value_counts().index, data=df)\n"
      ],
      "execution_count": 0,
      "outputs": [
        {
          "output_type": "stream",
          "text": [
            "/usr/local/lib/python3.6/dist-packages/seaborn/categorical.py:1428: FutureWarning: remove_na is deprecated and is a private function. Do not use.\n",
            "  stat_data = remove_na(group_data)\n"
          ],
          "name": "stderr"
        },
        {
          "output_type": "display_data",
          "data": {
            "image/png": "[encoded data removed]",
            "text/plain": [
              "<Figure size 432x288 with 1 Axes>"
            ]
          },
          "metadata": {
            "tags": []
          }
        }
      ]
    },
    {
      "cell_type": "code",
      "metadata": {
        "id": "0a0lrftDWIP5",
        "colab_type": "code",
        "colab": {}
      },
      "source": [
        "#Spearman and Pearson Correlation Tests\n",
        "\n",
        "from scipy.stats import spearmanr\n",
        "from scipy.stats import pearsonr"
      ],
      "execution_count": 0,
      "outputs": []
    },
    {
      "cell_type": "code",
      "metadata": {
        "id": "bU2hYqawWoII",
        "colab_type": "code",
        "outputId": "0a477148-3128-4d52-d926-1c4ce5cfa8ad",
        "colab": {
          "base_uri": "https://localhost:8080/",
          "height": 34
        }
      },
      "source": [
        "# books count vs ratings count\n",
        "spearmanr(df.books_count, df.ratings_count)"
      ],
      "execution_count": 0,
      "outputs": [
        {
          "output_type": "execute_result",
          "data": {
            "text/plain": [
              "SpearmanrResult(correlation=0.3866475377144219, pvalue=0.0)"
            ]
          },
          "metadata": {
            "tags": []
          },
          "execution_count": 32
        }
      ]
    },
    {
      "cell_type": "code",
      "metadata": {
        "id": "TxZ_0XbSbq8n",
        "colab_type": "code",
        "outputId": "5d65b076-1142-4385-d836-a0f415ad0e6e",
        "colab": {
          "base_uri": "https://localhost:8080/",
          "height": 34
        }
      },
      "source": [
        "# average rating vs ratings count\n",
        "spearmanr(df.average_rating, df.ratings_count)"
      ],
      "execution_count": 0,
      "outputs": [
        {
          "output_type": "execute_result",
          "data": {
            "text/plain": [
              "SpearmanrResult(correlation=0.07484136190471793, pvalue=1.6282945459948974e-13)"
            ]
          },
          "metadata": {
            "tags": []
          },
          "execution_count": 34
        }
      ]
    },
    {
      "cell_type": "code",
      "metadata": {
        "id": "gBKjPbQyb4c9",
        "colab_type": "code",
        "outputId": "127a89a8-cf0d-45cd-d9a3-3fb615c21b80",
        "colab": {
          "base_uri": "https://localhost:8080/",
          "height": 331
        }
      },
      "source": [
        "_ = df.plot.scatter(x='ratings_count', y='average_rating')\n",
        "_ = plt.xlabel('Ratings Count Per Book')\n",
        "_ = plt.ylabel('Average Rating Per Book')\n",
        "_ = plt.title('Ratings Count vs Average Rating Per Book')\n",
        "_ = plt.show()"
      ],
      "execution_count": 0,
      "outputs": [
        {
          "output_type": "stream",
          "text": [
            "'c' argument looks like a single numeric RGB or RGBA sequence, which should be avoided as value-mapping will have precedence in case its length matches with 'x' & 'y'.  Please use a 2-D array with a single row if you really want to specify the same RGB or RGBA value for all points.\n"
          ],
          "name": "stderr"
        },
        {
          "output_type": "display_data",
          "data": {
            "image/png": "[encoded data removed]",
            "text/plain": [
              "<Figure size 432x288 with 1 Axes>"
            ]
          },
          "metadata": {
            "tags": []
          }
        }
      ]
    },
    {
      "cell_type": "code",
      "metadata": {
        "id": "sIT3oZLLYFnT",
        "colab_type": "code",
        "outputId": "ad0967a2-10b1-4fde-f35e-82eca5bf1b7f",
        "colab": {
          "base_uri": "https://localhost:8080/",
          "height": 729
        }
      },
      "source": [
        "# Compute ecdfs\n",
        "def ecdf(data):\n",
        "    \"\"\"Compute ECDF for a one-dimensional array of measurements.\"\"\"\n",
        "    # Number of data points: n\n",
        "    n = len(data)\n",
        "    # x-data for the ECDF: x\n",
        "    x = np.sort(data)\n",
        "    # y-data for the ECDF: y\n",
        "    y = np.arange(1, n+1) / float(n)\n",
        "    return x, y\n",
        "\n",
        "x_ar, y_ar = ecdf(df.average_rating)\n",
        "\n",
        "# Examine differences visually\n",
        "fig = plt.figure(figsize=(12, 12))\n",
        "_ = plt.subplot(2,1,1)\n",
        "_ = plt.xlim([0, 5.0])\n",
        "_ = plt.hist(df.average_rating, bins=50, histtype='step')\n",
        "_ = plt.xlabel('Average Rating')\n",
        "_ = plt.ylabel('# of Books')\n",
        "_ = plt.title('Average Book Rating')\n",
        "\n",
        "_ = plt.subplot(2,1,2)\n",
        "_ = plt.plot(x_ar, y_ar, marker='.', linestyle='none')\n",
        "_ = plt.xlim([0, 5.0])\n",
        "_ = plt.ylabel('ECDF')\n",
        "_ = plt.xlabel('Average Rating')\n",
        "_ = plt.title('Average Book Rating')"
      ],
      "execution_count": 0,
      "outputs": [
        {
          "output_type": "display_data",
          "data": {
            "image/png": "[encoded data removed]",
            "text/plain": [
              "<Figure size 864x864 with 2 Axes>"
            ]
          },
          "metadata": {
            "tags": []
          }
        }
      ]
    },
    {
      "cell_type": "markdown",
      "metadata": {
        "id": "SZYtYNVxhUJL",
        "colab_type": "text"
      },
      "source": [
        "Based on the descriptive statistics and graphs, the average rating is very skewed to the right, with the vast majority of books rated above 3.5. This leads to speculation that there is a bias in reviews. That is to say, most people will review a book only if they really like it or really hate it. Since this dataset is from Goodreads Kaggle competition, it is more than likely that these books were already the most popular books on the site and as such their average ratings will be higher than the expected normal distribution. "
      ]
    },
    {
      "cell_type": "markdown",
      "metadata": {
        "id": "Zpp6XQMYJ977",
        "colab_type": "text"
      },
      "source": [
        "# In Depth Analysis"
      ]
    },
    {
      "cell_type": "markdown",
      "metadata": {
        "id": "I7IIUjP3KwAn",
        "colab_type": "text"
      },
      "source": [
        "<p>In order to transform the text data to be utlized by machine learning algorithms, first the data must be transformed into numerical data. To do this, I will incorporate TF-IDF or Term Frequency- Inverse Document Frequency. This is one of the most common methods used in analyzing text information. Once the method has been implemented, I will then use cosine similarity in order to calculate a value that will respresent the similarity between two books. <p/>\n",
        "<p>TF-IDF involved a two-part process in order to vectorize the text data. First, it counts the frequency of words within a document or body of text (commonly referred to as corpus when not dealing with an actual document). It stores the word frequency of document as a vector. Then, this is compared against how often a term appears across all documents or the corpus and is given a lower value the more frequenctly it appears. This gives less weight to words like \"The\", \"and\", \"of\" and the like in favor or proper nouns and verbs that better describe the text. In the case of this project, since the comparison is based on book titles, authors and genres, those proper nouns and verbs will be the primary factor in determining the similarity between books. This also helps solves the problem of the user-selected genre tags. Though the tags that are most common will be given less weight in the TD-IDF vector, the unique tags will still only have so much weight associated with them. For example, though many of the books will have the genre tag \"fantasy\" that will in turn place a lower value on the term \"fantasy\" itself, at least this will be reflected in all books with that tag. Tags such as \"Best Book Ever\" will have a higher weight but will not be similar to other tags so it will not be a major factor in the next step in the process, cosine similarity. <p/>\n",
        "<p>Cosine similarity takes the cosine of the angle between to two vectors and using the dot product of two vectors produces a number from 0 to 1 with 1 being the most similarity. Cosine similarity algorithm will be applied to the vectors produced using TD-IDF to determine the similiarity between books. In order to get a wide range of options, the cosine similarity algorithm will be applied to different corpi from the dataset. I plan on applying it to the following columns individually; title, author, genre tags and then a corpus with all three included to see if the results for a particular set of books is consistent. In the long-term, when a user utilitizes this algorithm to find a similar book to a book that is not listed in this dataset, all the algorithm will have is a the title of the book. This could be improved upon if the user has to use this recommendation system on the Goodreads platform where the book will have more data associated with it for the algorithm to implement in the similarity calculations. <p/>"
      ]
    },
    {
      "cell_type": "code",
      "metadata": {
        "id": "7Oa-1PV7XJBl",
        "colab_type": "code",
        "colab": {}
      },
      "source": [
        "# Incorporate TD-IDF\n",
        "from sklearn.feature_extraction.text import TfidfVectorizer\n",
        "from sklearn.metrics.pairwise import linear_kernel"
      ],
      "execution_count": 0,
      "outputs": []
    },
    {
      "cell_type": "code",
      "metadata": {
        "id": "DHPssnCTYgqO",
        "colab_type": "code",
        "colab": {}
      },
      "source": [
        "# Load Cosine Similarity\n",
        "tf = TfidfVectorizer(analyzer='word',ngram_range=(1, 2),min_df=0, stop_words='english')\n",
        "tfidf_matrix = tf.fit_transform(df['authors']) #vectorize \"authors\" column\n",
        "cosine_sim_a = linear_kernel(tfidf_matrix, tfidf_matrix)"
      ],
      "execution_count": 0,
      "outputs": []
    },
    {
      "cell_type": "code",
      "metadata": {
        "id": "R6wKtdNNT5wZ",
        "colab_type": "code",
        "colab": {
          "base_uri": "https://localhost:8080/",
          "height": 140
        },
        "outputId": "533c1cbd-903f-4435-ab38-eed3645b75c4"
      },
      "source": [
        "cosine_sim_a"
      ],
      "execution_count": 31,
      "outputs": [
        {
          "output_type": "execute_result",
          "data": {
            "text/plain": [
              "array([[1., 0., 0., ..., 0., 0., 0.],\n",
              "       [0., 1., 0., ..., 0., 0., 0.],\n",
              "       [0., 0., 1., ..., 0., 0., 0.],\n",
              "       ...,\n",
              "       [0., 0., 0., ..., 1., 0., 0.],\n",
              "       [0., 0., 0., ..., 0., 1., 0.],\n",
              "       [0., 0., 0., ..., 0., 0., 1.]])"
            ]
          },
          "metadata": {
            "tags": []
          },
          "execution_count": 31
        }
      ]
    },
    {
      "cell_type": "markdown",
      "metadata": {
        "id": "-cO2v8L2T5sb",
        "colab_type": "text"
      },
      "source": [
        "Create a function that generates 20 books that are similar based on the cosine similarity score associated with each book author. This function can be used again when comparing different data outcomes from different text columns. "
      ]
    },
    {
      "cell_type": "code",
      "metadata": {
        "id": "Fx-fqk0vUece",
        "colab_type": "code",
        "colab": {}
      },
      "source": [
        "# Build a 1-dimensional array with book titles\n",
        "titles = df['title']\n",
        "indices = pd.Series(df.index, index=df['title'])\n",
        "\n",
        "# Function that get book recommendations based on the cosine similarity score of book authors\n",
        "def authors_recommendations(title):\n",
        "    idx = indices[title]\n",
        "    sim_scores = list(enumerate(cosine_sim_a[idx]))\n",
        "    sim_scores = sorted(sim_scores, key=lambda x: x[1], reverse=True)\n",
        "    sim_scores = sim_scores[1:21]\n",
        "    book_indices = [i[0] for i in sim_scores]\n",
        "    return titles.iloc[book_indices]"
      ],
      "execution_count": 0,
      "outputs": []
    },
    {
      "cell_type": "code",
      "metadata": {
        "id": "PBFLGuKEU9VI",
        "colab_type": "code",
        "colab": {
          "base_uri": "https://localhost:8080/",
          "height": 386
        },
        "outputId": "a39b5213-9aa2-4b9c-ed1c-5b30bdb24c2d"
      },
      "source": [
        "authors_recommendations(\"1984\")"
      ],
      "execution_count": 33,
      "outputs": [
        {
          "output_type": "execute_result",
          "data": {
            "text/plain": [
              "13                                            Animal Farm\n",
              "2499                     Down and Out in Paris and London\n",
              "6531                                         Burmese Days\n",
              "9343                           Keep the Aspidistra Flying\n",
              "2841                                    The Art of Loving\n",
              "820                                    Animal Farm / 1984\n",
              "3883                                  Homage to Catalonia\n",
              "2326                          Love Story (Love Story, #1)\n",
              "7103                                              Doctors\n",
              "5877                                       Three Comrades\n",
              "7047    Arch of Triumph: A Novel of a Man Without a Co...\n",
              "35         A Game of Thrones (A Song of Ice and Fire, #1)\n",
              "104        A Clash of Kings  (A Song of Ice and Fire, #2)\n",
              "128        A Storm of Swords (A Song of Ice and Fire, #3)\n",
              "157        A Feast for Crows (A Song of Ice and Fire, #4)\n",
              "177     A Dance with Dragons (A Song of Ice and Fire, #5)\n",
              "1444    A Storm of Swords: Blood and Gold (A Song of I...\n",
              "1924    A Storm of Swords: Steel and Snow (A Song of I...\n",
              "2070    A Song of Ice and Fire (A Song of Ice and Fire...\n",
              "2443    A Song of Ice and Fire (A Song of Ice and Fire...\n",
              "Name: title, dtype: object"
            ]
          },
          "metadata": {
            "tags": []
          },
          "execution_count": 33
        }
      ]
    },
    {
      "cell_type": "markdown",
      "metadata": {
        "id": "Q8AQmsBAWA7J",
        "colab_type": "text"
      },
      "source": [
        "The recommendation engine seems to be working adequately with the author's column being used for the cosine similarity score. The major issue is when a book title is typed in the function, it needs to be typed in exactly as it is listed in the Goodreads dataset. This leads to unneccesary errors. A method to fix this problem is currently being investigated and will be implemented once a solution is found. \n",
        "\n",
        "Next the 'tag-name' column will be vectorized and cosine similarity scores generated from that column will be used to find books that are similar. The same function that was used for authors can be used for tag-names. "
      ]
    },
    {
      "cell_type": "code",
      "metadata": {
        "id": "3N9UncwEX2ek",
        "colab_type": "code",
        "colab": {}
      },
      "source": [
        "# Load Cosine Similarity\n",
        "tf = TfidfVectorizer(analyzer='word',ngram_range=(1, 2),min_df=0, stop_words='english')\n",
        "tfidf_matrix = tf.fit_transform(df['tag_name']) #vectorize \"tag_name\" column\n",
        "cosine_sim_t = linear_kernel(tfidf_matrix, tfidf_matrix)"
      ],
      "execution_count": 0,
      "outputs": []
    },
    {
      "cell_type": "code",
      "metadata": {
        "id": "PV6BGSREYB7P",
        "colab_type": "code",
        "colab": {
          "base_uri": "https://localhost:8080/",
          "height": 246
        },
        "outputId": "331b2180-29e6-4648-9643-87208cb4705e"
      },
      "source": [
        "cosine_sim_t"
      ],
      "execution_count": 35,
      "outputs": [
        {
          "output_type": "execute_result",
          "data": {
            "text/plain": [
              "array([[1.        , 0.23614628, 0.28292822, ..., 0.05029014, 0.07949614,\n",
              "        0.01697119],\n",
              "       [0.23614628, 1.        , 0.22421811, ..., 0.05256826, 0.07128068,\n",
              "        0.0233914 ],\n",
              "       [0.28292822, 0.22421811, 1.        , ..., 0.03322431, 0.04257365,\n",
              "        0.01477645],\n",
              "       ...,\n",
              "       [0.05029014, 0.05256826, 0.03322431, ..., 1.        , 0.02605563,\n",
              "        0.07164151],\n",
              "       [0.07949614, 0.07128068, 0.04257365, ..., 0.02605563, 1.        ,\n",
              "        0.07229502],\n",
              "       [0.01697119, 0.0233914 , 0.01477645, ..., 0.07164151, 0.07229502,\n",
              "        1.        ]])"
            ]
          },
          "metadata": {
            "tags": []
          },
          "execution_count": 35
        }
      ]
    },
    {
      "cell_type": "code",
      "metadata": {
        "id": "kQYp2gXAYCMj",
        "colab_type": "code",
        "colab": {}
      },
      "source": [
        "# Build a 1-dimensional array with book titles\n",
        "titles = df['title']\n",
        "indices = pd.Series(df.index, index=df['title'])\n",
        "\n",
        "# Function that get book recommendations based on the cosine similarity score of book tag-names\n",
        "def tags_recommendations(title):\n",
        "    idx = indices[title]\n",
        "    sim_scores = list(enumerate(cosine_sim_t[idx]))\n",
        "    sim_scores = sorted(sim_scores, key=lambda x: x[1], reverse=True)\n",
        "    sim_scores = sim_scores[1:21]\n",
        "    book_indices = [i[0] for i in sim_scores]\n",
        "    return titles.iloc[book_indices]"
      ],
      "execution_count": 0,
      "outputs": []
    },
    {
      "cell_type": "code",
      "metadata": {
        "id": "O-sbFHK5Y4n2",
        "colab_type": "code",
        "colab": {
          "base_uri": "https://localhost:8080/",
          "height": 386
        },
        "outputId": "303b05a1-0d0b-4884-dc5f-31df42ec7f3f"
      },
      "source": [
        "tags_recommendations('1984')"
      ],
      "execution_count": 37,
      "outputs": [
        {
          "output_type": "execute_result",
          "data": {
            "text/plain": [
              "50                                  Brave New World\n",
              "44                                   Fahrenheit 451\n",
              "13                                      Animal Farm\n",
              "27                                Lord of the Flies\n",
              "66                                     Frankenstein\n",
              "60                              Slaughterhouse-Five\n",
              "7                            The Catcher in the Rye\n",
              "784     Brave New World / Brave New World Revisited\n",
              "89                       The Picture of Dorian Gray\n",
              "164                              A Clockwork Orange\n",
              "123                 One Flew Over the Cuckoo's Nest\n",
              "820                              Animal Farm / 1984\n",
              "152                              Great Expectations\n",
              "78                             A Tale of Two Cities\n",
              "374     The Strange Case of Dr. Jekyll and Mr. Hyde\n",
              "58                                Wuthering Heights\n",
              "6130                                      High-Rise\n",
              "678                                   Mrs. Dalloway\n",
              "193                               A Christmas Carol\n",
              "107                                        Catch-22\n",
              "Name: title, dtype: object"
            ]
          },
          "metadata": {
            "tags": []
          },
          "execution_count": 37
        }
      ]
    },
    {
      "cell_type": "markdown",
      "metadata": {
        "id": "kIvpLWCiZNEt",
        "colab_type": "text"
      },
      "source": [
        "<p>The recommendation engine generated the a differnet list of books than that of the vectorized authors column.  The next attempt will be a corpus with the authors and tag_name columns combined. DIfferent results are not expected. However, an engine utilizing both text features of the data set instead of one should prove to be more robust for future deployment.</p>"
      ]
    },
    {
      "cell_type": "code",
      "metadata": {
        "id": "kC_gYJKokqkT",
        "colab_type": "code",
        "colab": {}
      },
      "source": [
        "df['corpus'] = (pd.Series(df[['authors', 'tag_name']]\n",
        "                .fillna('')\n",
        "                .values.tolist()\n",
        "                ).str.join(' '))"
      ],
      "execution_count": 0,
      "outputs": []
    },
    {
      "cell_type": "code",
      "metadata": {
        "id": "9LR-cbwqku1Z",
        "colab_type": "code",
        "colab": {}
      },
      "source": [
        "tf_corpus = TfidfVectorizer(analyzer='word',ngram_range=(1, 2),min_df=0, stop_words='english')\n",
        "tfidf_matrix_corpus = tf_corpus.fit_transform(df['corpus'])\n",
        "cosine_sim_corpus = linear_kernel(tfidf_matrix_corpus, tfidf_matrix_corpus)\n",
        "\n",
        "# Build a 1-dimensional array with book titles\n",
        "titles = df['title']\n",
        "indices = pd.Series(df.index, index=df['title'])\n",
        "\n",
        "# Function that get book recommendations based on the cosine similarity score of book authors and tags\n",
        "def corpus_recommendations(title):\n",
        "    idx = indices[title]\n",
        "    sim_scores = list(enumerate(cosine_sim_corpus[idx]))\n",
        "    sim_scores = sorted(sim_scores, key=lambda x: x[1], reverse=True)\n",
        "    sim_scores = sim_scores[1:21]\n",
        "    book_indices = [i[0] for i in sim_scores]\n",
        "    return titles.iloc[book_indices]"
      ],
      "execution_count": 0,
      "outputs": []
    },
    {
      "cell_type": "code",
      "metadata": {
        "id": "mpf_ECyCkzAg",
        "colab_type": "code",
        "colab": {
          "base_uri": "https://localhost:8080/",
          "height": 386
        },
        "outputId": "6546dc6c-750c-4159-d920-b74671fbca0a"
      },
      "source": [
        "corpus_recommendations(\"1984\")"
      ],
      "execution_count": 40,
      "outputs": [
        {
          "output_type": "execute_result",
          "data": {
            "text/plain": [
              "50                                  Brave New World\n",
              "13                                      Animal Farm\n",
              "44                                   Fahrenheit 451\n",
              "27                                Lord of the Flies\n",
              "820                              Animal Farm / 1984\n",
              "7                            The Catcher in the Rye\n",
              "9343                     Keep the Aspidistra Flying\n",
              "123                 One Flew Over the Cuckoo's Nest\n",
              "784     Brave New World / Brave New World Revisited\n",
              "164                              A Clockwork Orange\n",
              "60                              Slaughterhouse-Five\n",
              "66                                     Frankenstein\n",
              "89                       The Picture of Dorian Gray\n",
              "152                              Great Expectations\n",
              "107                                        Catch-22\n",
              "1163                              The Invisible Man\n",
              "58                                Wuthering Heights\n",
              "257                            Flowers for Algernon\n",
              "6130                                      High-Rise\n",
              "758                                   The Awakening\n",
              "Name: title, dtype: object"
            ]
          },
          "metadata": {
            "tags": []
          },
          "execution_count": 40
        }
      ]
    },
    {
      "cell_type": "markdown",
      "metadata": {
        "id": "833yFeC3meku",
        "colab_type": "text"
      },
      "source": [
        "<p>Against previous assumptions, the recomendation engine that incorporated the vectorized corpus of authors and tag-names produced an entirely different list of books. There are some books that are on the previous lists but the list is far from identical. The list even has some differences with the tag-names engine. The corpus engine worked better than initial estimates. Most of the books recommended are from different genres. "
      ]
    },
    {
      "cell_type": "code",
      "metadata": {
        "id": "4eqmk_Exq6zG",
        "colab_type": "code",
        "colab": {
          "base_uri": "https://localhost:8080/",
          "height": 386
        },
        "outputId": "c10a18c1-8a58-425d-cfee-41e712e198ca"
      },
      "source": [
        "authors_recommendations(\"Harry Potter and the Sorcerer's Stone (Harry Potter, #1)\")"
      ],
      "execution_count": 44,
      "outputs": [
        {
          "output_type": "execute_result",
          "data": {
            "text/plain": [
              "20      Harry Potter and the Order of the Phoenix (Har...\n",
              "22      Harry Potter and the Chamber of Secrets (Harry...\n",
              "23      Harry Potter and the Goblet of Fire (Harry Pot...\n",
              "24      Harry Potter and the Deathly Hallows (Harry Po...\n",
              "26      Harry Potter and the Half-Blood Prince (Harry ...\n",
              "2023    The Harry Potter Collection 1-4 (Harry Potter,...\n",
              "3171    Harry Potter Boxed Set, Books 1-5 (Harry Potte...\n",
              "17      Harry Potter and the Prisoner of Azkaban (Harr...\n",
              "327                                    The Casual Vacancy\n",
              "383                          The Tales of Beedle the Bard\n",
              "404              Harry Potter Boxset (Harry Potter, #1-7)\n",
              "3635         Harry Potter Collection (Harry Potter, #1-6)\n",
              "5961    Harry Potter and the Order of the Phoenix (Har...\n",
              "7295    Hogwarts: An Incomplete and Unreliable Guide (...\n",
              "8765    Harry Potter Schoolbooks Box Set: Two Classic ...\n",
              "6241    Short Stories from Hogwarts of Heroism, Hardsh...\n",
              "7220    Short Stories from Hogwarts of Power, Politics...\n",
              "240            The Cuckoo's Calling (Cormoran Strike, #1)\n",
              "672                    The Silkworm (Cormoran Strike, #2)\n",
              "1028                 Career of Evil (Cormoran Strike, #3)\n",
              "Name: title, dtype: object"
            ]
          },
          "metadata": {
            "tags": []
          },
          "execution_count": 44
        }
      ]
    },
    {
      "cell_type": "code",
      "metadata": {
        "id": "-u6PGvYrtMns",
        "colab_type": "code",
        "colab": {
          "base_uri": "https://localhost:8080/",
          "height": 386
        },
        "outputId": "05642023-a53b-4765-ef56-0f63c2f27fa9"
      },
      "source": [
        "tags_recommendations(\"Harry Potter and the Sorcerer's Stone (Harry Potter, #1)\")"
      ],
      "execution_count": 45,
      "outputs": [
        {
          "output_type": "execute_result",
          "data": {
            "text/plain": [
              "17      Harry Potter and the Prisoner of Azkaban (Harr...\n",
              "22      Harry Potter and the Chamber of Secrets (Harry...\n",
              "26      Harry Potter and the Half-Blood Prince (Harry ...\n",
              "24      Harry Potter and the Deathly Hallows (Harry Po...\n",
              "23      Harry Potter and the Goblet of Fire (Harry Pot...\n",
              "383                          The Tales of Beedle the Bard\n",
              "3635         Harry Potter Collection (Harry Potter, #1-6)\n",
              "20      Harry Potter and the Order of the Phoenix (Har...\n",
              "1243                           Quidditch Through the Ages\n",
              "451               Fantastic Beasts and Where to Find Them\n",
              "404              Harry Potter Boxset (Harry Potter, #1-7)\n",
              "5961    Harry Potter and the Order of the Phoenix (Har...\n",
              "8765    Harry Potter Schoolbooks Box Set: Two Classic ...\n",
              "2023    The Harry Potter Collection 1-4 (Harry Potter,...\n",
              "3171    Harry Potter Boxed Set, Books 1-5 (Harry Potte...\n",
              "265     Harry Potter and the Cursed Child - Parts One ...\n",
              "352             The Subtle Knife (His Dark Materials, #2)\n",
              "57            The Golden Compass (His Dark Materials, #1)\n",
              "6811    The Magical Worlds of Harry Potter: A Treasury...\n",
              "6008                      Charmed Life (Chrestomanci, #1)\n",
              "Name: title, dtype: object"
            ]
          },
          "metadata": {
            "tags": []
          },
          "execution_count": 45
        }
      ]
    },
    {
      "cell_type": "code",
      "metadata": {
        "id": "dAPI8xWZtVYE",
        "colab_type": "code",
        "colab": {
          "base_uri": "https://localhost:8080/",
          "height": 386
        },
        "outputId": "c44b9e79-ba50-42d5-f4d6-232d0d053e28"
      },
      "source": [
        "corpus_recommendations(\"Harry Potter and the Sorcerer's Stone (Harry Potter, #1)\")"
      ],
      "execution_count": 46,
      "outputs": [
        {
          "output_type": "execute_result",
          "data": {
            "text/plain": [
              "22      Harry Potter and the Chamber of Secrets (Harry...\n",
              "26      Harry Potter and the Half-Blood Prince (Harry ...\n",
              "17      Harry Potter and the Prisoner of Azkaban (Harr...\n",
              "24      Harry Potter and the Deathly Hallows (Harry Po...\n",
              "23      Harry Potter and the Goblet of Fire (Harry Pot...\n",
              "20      Harry Potter and the Order of the Phoenix (Har...\n",
              "383                          The Tales of Beedle the Bard\n",
              "3635         Harry Potter Collection (Harry Potter, #1-6)\n",
              "1243                           Quidditch Through the Ages\n",
              "404              Harry Potter Boxset (Harry Potter, #1-7)\n",
              "2023    The Harry Potter Collection 1-4 (Harry Potter,...\n",
              "5961    Harry Potter and the Order of the Phoenix (Har...\n",
              "451               Fantastic Beasts and Where to Find Them\n",
              "8765    Harry Potter Schoolbooks Box Set: Two Classic ...\n",
              "3171    Harry Potter Boxed Set, Books 1-5 (Harry Potte...\n",
              "265     Harry Potter and the Cursed Child - Parts One ...\n",
              "6811    The Magical Worlds of Harry Potter: A Treasury...\n",
              "352             The Subtle Knife (His Dark Materials, #2)\n",
              "792       Howl's Moving Castle (Howl's Moving Castle, #1)\n",
              "57            The Golden Compass (His Dark Materials, #1)\n",
              "Name: title, dtype: object"
            ]
          },
          "metadata": {
            "tags": []
          },
          "execution_count": 46
        }
      ]
    },
    {
      "cell_type": "markdown",
      "metadata": {
        "id": "CFshiAiRtg1o",
        "colab_type": "text"
      },
      "source": [
        "<p>The recommendation engines that were developed showed similarities in books associated with a given title. There are a few areas where the engine can be improved. As previously stated, the engine only works with this specific Goodreads dataset. Though this dataset has the top 10,000 books read on goodreads, it is still not every book on the platform. Thus, this engine needs to be improved to include all titles that are in the Goodreads database. If this recommendation engine is ever implemented on a site such as Goodreads, the corpus recommendation would be the top choice since it uses the most pertinant information about the books in tandem. </p>\n",
        "<p> Another issue with the engine is that it may be too good at recommending similar books. The original thesis was to create an engine that would recommend books that were similar to the selected book but from different genres. Since authors and tag-name are the primary data used for this engine, it is difficult to see a solution that would purposely and accurately choose different tag-name books that are also similar. The original goal was the vectorized corpus would find similarities between different tag-names and authors that are not apparently to the naked eye. Further development in this area would lead to a more customizeable recommendation engine that could potentially utilitize filters.</p>\n",
        "<p> This engine is easy to use but an app or web app integration would take the engine to the next level. By drastically improving the user experience this could lead to more use and in turn more data for the engine to consider. Goodreads could have this recommendation engine intergrated into their site on the User Account section that way people can get recommendations to books they have already read. "
      ]
    }
  ]
}